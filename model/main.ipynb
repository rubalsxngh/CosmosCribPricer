{
 "cells": [
  {
   "cell_type": "markdown",
   "metadata": {},
   "source": [
    "## House Price Prediction\n",
    "#### Handling the imports"
   ]
  },
  {
   "cell_type": "code",
   "execution_count": 95,
   "metadata": {},
   "outputs": [],
   "source": [
    "import pandas as pd\n",
    "from sklearn.preprocessing import LabelEncoder\n",
    "from sklearn.model_selection import train_test_split\n",
    "from sklearn.linear_model import LinearRegression\n",
    "from sklearn.tree import DecisionTreeRegressor\n",
    "from sklearn.ensemble import RandomForestRegressor\n",
    "from sklearn.ensemble import GradientBoostingRegressor\n",
    "from sklearn.linear_model import Ridge\n",
    "from sklearn.neighbors import KNeighborsRegressor\n",
    "from sklearn.svm import SVR\n",
    "\n",
    "from sklearn.linear_model import Lasso\n",
    "from sklearn.model_selection import GridSearchCV\n",
    "from sklearn.model_selection import ShuffleSplit\n",
    "from sklearn.preprocessing import StandardScaler\n",
    "%matplotlib inline\n",
    "import matplotlib.pyplot as plt\n",
    "import seaborn as sns\n",
    "import numpy as np\n",
    "from scipy.stats import zscore\n",
    "import pickle"
   ]
  },
  {
   "cell_type": "markdown",
   "metadata": {},
   "source": [
    "#### Loading the data using pandas"
   ]
  },
  {
   "cell_type": "code",
   "execution_count": 2,
   "metadata": {},
   "outputs": [],
   "source": [
    "price_df= pd.read_csv('bengaluru_house_prices.csv')"
   ]
  },
  {
   "cell_type": "code",
   "execution_count": 3,
   "metadata": {},
   "outputs": [
    {
     "data": {
      "text/html": [
       "<div>\n",
       "<style scoped>\n",
       "    .dataframe tbody tr th:only-of-type {\n",
       "        vertical-align: middle;\n",
       "    }\n",
       "\n",
       "    .dataframe tbody tr th {\n",
       "        vertical-align: top;\n",
       "    }\n",
       "\n",
       "    .dataframe thead th {\n",
       "        text-align: right;\n",
       "    }\n",
       "</style>\n",
       "<table border=\"1\" class=\"dataframe\">\n",
       "  <thead>\n",
       "    <tr style=\"text-align: right;\">\n",
       "      <th></th>\n",
       "      <th>area_type</th>\n",
       "      <th>availability</th>\n",
       "      <th>location</th>\n",
       "      <th>size</th>\n",
       "      <th>society</th>\n",
       "      <th>total_sqft</th>\n",
       "      <th>bath</th>\n",
       "      <th>balcony</th>\n",
       "      <th>price</th>\n",
       "    </tr>\n",
       "  </thead>\n",
       "  <tbody>\n",
       "    <tr>\n",
       "      <th>0</th>\n",
       "      <td>Super built-up  Area</td>\n",
       "      <td>19-Dec</td>\n",
       "      <td>Electronic City Phase II</td>\n",
       "      <td>2 BHK</td>\n",
       "      <td>Coomee</td>\n",
       "      <td>1056</td>\n",
       "      <td>2.0</td>\n",
       "      <td>1.0</td>\n",
       "      <td>39.07</td>\n",
       "    </tr>\n",
       "    <tr>\n",
       "      <th>1</th>\n",
       "      <td>Plot  Area</td>\n",
       "      <td>Ready To Move</td>\n",
       "      <td>Chikka Tirupathi</td>\n",
       "      <td>4 Bedroom</td>\n",
       "      <td>Theanmp</td>\n",
       "      <td>2600</td>\n",
       "      <td>5.0</td>\n",
       "      <td>3.0</td>\n",
       "      <td>120.00</td>\n",
       "    </tr>\n",
       "    <tr>\n",
       "      <th>2</th>\n",
       "      <td>Built-up  Area</td>\n",
       "      <td>Ready To Move</td>\n",
       "      <td>Uttarahalli</td>\n",
       "      <td>3 BHK</td>\n",
       "      <td>NaN</td>\n",
       "      <td>1440</td>\n",
       "      <td>2.0</td>\n",
       "      <td>3.0</td>\n",
       "      <td>62.00</td>\n",
       "    </tr>\n",
       "  </tbody>\n",
       "</table>\n",
       "</div>"
      ],
      "text/plain": [
       "              area_type   availability                  location       size  \\\n",
       "0  Super built-up  Area         19-Dec  Electronic City Phase II      2 BHK   \n",
       "1            Plot  Area  Ready To Move          Chikka Tirupathi  4 Bedroom   \n",
       "2        Built-up  Area  Ready To Move               Uttarahalli      3 BHK   \n",
       "\n",
       "   society total_sqft  bath  balcony   price  \n",
       "0  Coomee        1056   2.0      1.0   39.07  \n",
       "1  Theanmp       2600   5.0      3.0  120.00  \n",
       "2      NaN       1440   2.0      3.0   62.00  "
      ]
     },
     "execution_count": 3,
     "metadata": {},
     "output_type": "execute_result"
    }
   ],
   "source": [
    "price_df.head(3)"
   ]
  },
  {
   "cell_type": "markdown",
   "metadata": {},
   "source": [
    "#### Descriptive analysis"
   ]
  },
  {
   "cell_type": "code",
   "execution_count": 4,
   "metadata": {},
   "outputs": [
    {
     "name": "stdout",
     "output_type": "stream",
     "text": [
      "<class 'pandas.core.frame.DataFrame'>\n",
      "RangeIndex: 13320 entries, 0 to 13319\n",
      "Data columns (total 9 columns):\n",
      " #   Column        Non-Null Count  Dtype  \n",
      "---  ------        --------------  -----  \n",
      " 0   area_type     13320 non-null  object \n",
      " 1   availability  13320 non-null  object \n",
      " 2   location      13319 non-null  object \n",
      " 3   size          13304 non-null  object \n",
      " 4   society       7818 non-null   object \n",
      " 5   total_sqft    13320 non-null  object \n",
      " 6   bath          13247 non-null  float64\n",
      " 7   balcony       12711 non-null  float64\n",
      " 8   price         13320 non-null  float64\n",
      "dtypes: float64(3), object(6)\n",
      "memory usage: 936.7+ KB\n"
     ]
    }
   ],
   "source": [
    "price_df.info()"
   ]
  },
  {
   "cell_type": "code",
   "execution_count": 5,
   "metadata": {},
   "outputs": [
    {
     "data": {
      "text/html": [
       "<div>\n",
       "<style scoped>\n",
       "    .dataframe tbody tr th:only-of-type {\n",
       "        vertical-align: middle;\n",
       "    }\n",
       "\n",
       "    .dataframe tbody tr th {\n",
       "        vertical-align: top;\n",
       "    }\n",
       "\n",
       "    .dataframe thead th {\n",
       "        text-align: right;\n",
       "    }\n",
       "</style>\n",
       "<table border=\"1\" class=\"dataframe\">\n",
       "  <thead>\n",
       "    <tr style=\"text-align: right;\">\n",
       "      <th></th>\n",
       "      <th>bath</th>\n",
       "      <th>balcony</th>\n",
       "      <th>price</th>\n",
       "    </tr>\n",
       "  </thead>\n",
       "  <tbody>\n",
       "    <tr>\n",
       "      <th>count</th>\n",
       "      <td>13247.000000</td>\n",
       "      <td>12711.000000</td>\n",
       "      <td>13320.000000</td>\n",
       "    </tr>\n",
       "    <tr>\n",
       "      <th>mean</th>\n",
       "      <td>2.692610</td>\n",
       "      <td>1.584376</td>\n",
       "      <td>112.565627</td>\n",
       "    </tr>\n",
       "    <tr>\n",
       "      <th>std</th>\n",
       "      <td>1.341458</td>\n",
       "      <td>0.817263</td>\n",
       "      <td>148.971674</td>\n",
       "    </tr>\n",
       "    <tr>\n",
       "      <th>min</th>\n",
       "      <td>1.000000</td>\n",
       "      <td>0.000000</td>\n",
       "      <td>8.000000</td>\n",
       "    </tr>\n",
       "    <tr>\n",
       "      <th>25%</th>\n",
       "      <td>2.000000</td>\n",
       "      <td>1.000000</td>\n",
       "      <td>50.000000</td>\n",
       "    </tr>\n",
       "    <tr>\n",
       "      <th>50%</th>\n",
       "      <td>2.000000</td>\n",
       "      <td>2.000000</td>\n",
       "      <td>72.000000</td>\n",
       "    </tr>\n",
       "    <tr>\n",
       "      <th>75%</th>\n",
       "      <td>3.000000</td>\n",
       "      <td>2.000000</td>\n",
       "      <td>120.000000</td>\n",
       "    </tr>\n",
       "    <tr>\n",
       "      <th>max</th>\n",
       "      <td>40.000000</td>\n",
       "      <td>3.000000</td>\n",
       "      <td>3600.000000</td>\n",
       "    </tr>\n",
       "  </tbody>\n",
       "</table>\n",
       "</div>"
      ],
      "text/plain": [
       "               bath       balcony         price\n",
       "count  13247.000000  12711.000000  13320.000000\n",
       "mean       2.692610      1.584376    112.565627\n",
       "std        1.341458      0.817263    148.971674\n",
       "min        1.000000      0.000000      8.000000\n",
       "25%        2.000000      1.000000     50.000000\n",
       "50%        2.000000      2.000000     72.000000\n",
       "75%        3.000000      2.000000    120.000000\n",
       "max       40.000000      3.000000   3600.000000"
      ]
     },
     "execution_count": 5,
     "metadata": {},
     "output_type": "execute_result"
    }
   ],
   "source": [
    "price_df.describe()"
   ]
  },
  {
   "cell_type": "markdown",
   "metadata": {},
   "source": [
    "##### The column society has too many null values, its better to drop society"
   ]
  },
  {
   "cell_type": "markdown",
   "metadata": {},
   "source": [
    "#### Statistic Analysis"
   ]
  },
  {
   "cell_type": "code",
   "execution_count": 6,
   "metadata": {},
   "outputs": [
    {
     "name": "stdout",
     "output_type": "stream",
     "text": [
      "count    13320.000000\n",
      "mean       112.565627\n",
      "std        148.971674\n",
      "min          8.000000\n",
      "25%         50.000000\n",
      "50%         72.000000\n",
      "75%        120.000000\n",
      "max       3600.000000\n",
      "Name: price, dtype: float64\n"
     ]
    },
    {
     "name": "stderr",
     "output_type": "stream",
     "text": [
      "C:\\Users\\rubal\\AppData\\Local\\Temp\\ipykernel_23484\\3990956682.py:3: UserWarning: \n",
      "\n",
      "`distplot` is a deprecated function and will be removed in seaborn v0.14.0.\n",
      "\n",
      "Please adapt your code to use either `displot` (a figure-level function with\n",
      "similar flexibility) or `histplot` (an axes-level function for histograms).\n",
      "\n",
      "For a guide to updating your code to use the new functions, please see\n",
      "https://gist.github.com/mwaskom/de44147ed2974457ad6372750bbe5751\n",
      "\n",
      "  sns.distplot(price_df['price'],  color='g', bins=100, hist_kws={'alpha': 0.4});\n"
     ]
    },
    {
     "data": {
      "image/png": "[encoded data removed]",
      "text/plain": [
       "<Figure size 900x800 with 1 Axes>"
      ]
     },
     "metadata": {},
     "output_type": "display_data"
    }
   ],
   "source": [
    "print(price_df['price'].describe())\n",
    "plt.figure(figsize=(9, 8))\n",
    "sns.distplot(price_df['price'],  color='g', bins=100, hist_kws={'alpha': 0.4});"
   ]
  },
  {
   "cell_type": "markdown",
   "metadata": {},
   "source": [
    "##### With this information, we can see the prices are skewed towards right as some price goes ower 3500"
   ]
  },
  {
   "cell_type": "markdown",
   "metadata": {},
   "source": [
    "#### Data Cleaning\n",
    "\n",
    "- Droping the columns society( Too much null values)\n",
    "- Convert total_sqft and size into numerical values"
   ]
  },
  {
   "cell_type": "code",
   "execution_count": 7,
   "metadata": {},
   "outputs": [
    {
     "data": {
      "text/plain": [
       "size\n",
       "2 BHK         5199\n",
       "3 BHK         4310\n",
       "4 Bedroom      826\n",
       "4 BHK          591\n",
       "3 Bedroom      547\n",
       "1 BHK          538\n",
       "2 Bedroom      329\n",
       "5 Bedroom      297\n",
       "6 Bedroom      191\n",
       "1 Bedroom      105\n",
       "8 Bedroom       84\n",
       "7 Bedroom       83\n",
       "5 BHK           59\n",
       "9 Bedroom       46\n",
       "6 BHK           30\n",
       "7 BHK           17\n",
       "1 RK            13\n",
       "10 Bedroom      12\n",
       "9 BHK            8\n",
       "8 BHK            5\n",
       "11 BHK           2\n",
       "11 Bedroom       2\n",
       "10 BHK           2\n",
       "14 BHK           1\n",
       "13 BHK           1\n",
       "12 Bedroom       1\n",
       "27 BHK           1\n",
       "43 Bedroom       1\n",
       "16 BHK           1\n",
       "19 BHK           1\n",
       "18 Bedroom       1\n",
       "Name: count, dtype: int64"
      ]
     },
     "execution_count": 7,
     "metadata": {},
     "output_type": "execute_result"
    }
   ],
   "source": [
    "price_df['size'].value_counts()"
   ]
  },
  {
   "cell_type": "code",
   "execution_count": 8,
   "metadata": {},
   "outputs": [],
   "source": [
    "def clean_size_attribute(x):\n",
    "    if pd.isna(x):\n",
    "        return np.nan\n",
    "    \n",
    "    x1, x2= map(str, x.split())\n",
    "\n",
    "    return int(x1)"
   ]
  },
  {
   "cell_type": "code",
   "execution_count": 9,
   "metadata": {},
   "outputs": [],
   "source": [
    "price_df['size_bhk']= price_df['size'].apply(clean_size_attribute)"
   ]
  },
  {
   "cell_type": "code",
   "execution_count": 10,
   "metadata": {},
   "outputs": [],
   "source": [
    "np.set_printoptions(threshold=np.inf)"
   ]
  },
  {
   "cell_type": "code",
   "execution_count": 11,
   "metadata": {},
   "outputs": [],
   "source": [
    "arr = price_df['total_sqft'].unique()"
   ]
  },
  {
   "cell_type": "code",
   "execution_count": 12,
   "metadata": {},
   "outputs": [
    {
     "data": {
      "text/plain": [
       "array(['1056', '2600', '1440', '1521', '1200', '1170', '2732', '3300',\n",
       "       '1310', '1020', '1800', '2785', '1000', '1100', '2250', '1175',\n",
       "       '1180', '1540', '2770', '600', '1755', '2800', '1767', '510',\n",
       "       '1250', '660', '1610', '1151', '1025', '2100 - 2850', '1075',\n",
       "       '1760', '1693', '1925', '700', '1070', '1724', '1290', '1143',\n",
       "       '1296', '1254', '1330.74', '970', '1459', '800', '869', '1270',\n",
       "       '1670', '2010', '1185', '1600', '3010 - 3410', '1500', '1407',\n",
       "       '840', '4395', '845', '5700', '1160', '3000', '1140', '1220',\n",
       "       '1350', '1005', '500', '1358', '1569', '1240', '2089', '1206',\n",
       "       '1150', '2511', '460', '4400', '1660', '2957 - 3450', '1326',\n",
       "       '1325', '1499', '1665', '708', '1060', '710', '1450', '2894',\n",
       "       '1330', '2502', '650', '2400', '1007', '966', '1630', '1640',\n",
       "       '782', '1260', '1413', '1116', '1530', '3700', '2497', '1436',\n",
       "       '276', '1427', '2061', '3067 - 8156', '2650', '1282', '1050',\n",
       "       '945', '950', '1870', '880', '1535', '1360', '1042 - 1105', '1280',\n",
       "       '5000', '3050', '1563.05', '1167', '4000', '1828', '890', '1612',\n",
       "       '1034', '1710', '957', '2795', '1125', '1735', '2050', '3750',\n",
       "       '1063', '1904', '4200', '2000', '1145 - 1340', '1425', '1470',\n",
       "       '1300', '450', '1152', '1550', '400', '705', '770', '1242', '1700',\n",
       "       '2144', '1704', '1846', '1340', '1015 - 1540', '1327', '1186',\n",
       "       '1783', '1400', '980', '1285', '912', '1225', '1909', '1359',\n",
       "       '1207', '1736', '2850', '1595', '1798', '1475', '1580', '1295',\n",
       "       '3600', '589', '1415', '1787', '984', '1520 - 1740', '2405',\n",
       "       '1080', '1900', '805', '1153', '1148', '1110', '1933', '3500',\n",
       "       '645', '1644', '910', '1577', '4050', '2420', '900', '1108',\n",
       "       '3045', '2900', '1162', '1035', '1464', '1866', '1804', '913',\n",
       "       '1868', '883', '1664', '2026', '1210', '4111', '1762', '1252',\n",
       "       '861', '1420', '1490', '1084', '1015', '1017', '1027', '1069',\n",
       "       '1349', '1417', '1863', '1010', '1847', '525', '1850', '1438',\n",
       "       '1560', '850', '1113', '1385', '1128', '2390', '1645', '1192',\n",
       "       '2135', '1173', '3122', '1230', '11', '1508', '1592', '1388',\n",
       "       '630', '3252', '1308', '530', '1205', '930', '1380', '2483',\n",
       "       '1166', '2023.71', '1935', '451', '1801', '1451', '1629', '1826',\n",
       "       '1245', '1145', '825', '1113.27', '1460', '1656', '1208', '1910',\n",
       "       '12000', '550', '34.46Sq. Meter', '750', '1090', '1991', '1105',\n",
       "       '985', '1533', '1590', '1120', '1194', '1419', '2150', '11890',\n",
       "       '1750', '1404', '1715', '1752.12', '1650', '1346', '3309', '1190',\n",
       "       '1620', '2450', '1130', '1320', '4800', '929', '1753', '4500',\n",
       "       '1196', '1040', '720', '1511', '1545', '375', '1062', '1115',\n",
       "       '1195', '1246', '8500', '2805', '1584', '1353', '1599', '5230',\n",
       "       '1155', '1867', '1251', '1028', '1222', '1372', '1135', '1768',\n",
       "       '2610', '1286', '2845', '1195 - 1440', '3450', '1102', '656',\n",
       "       '1780', '595', '2225', '1126', '4144', '2100', '2230', '1544',\n",
       "       '1305', '1200 - 2400', '967', '540', '715', '2500', '1578', '1253',\n",
       "       '961', '1709', '416', '1430', '1249', '2791', '834', '2060', '891',\n",
       "       '1133', '2440', '940', '2160', '4104', '1790', '1920', '1374',\n",
       "       '1445', '711', '1720', '1030', '1375', '469', '3800', '1820',\n",
       "       '875', '4125Perch', '2378', '3385', '1641', '1120 - 1145', '2200',\n",
       "       '1702', '1141', '2072', '4400 - 6640', '3090 - 5002', '35000',\n",
       "       '1355', '1019', '1875', '1683', '1515', '2118', '1083', '2300',\n",
       "       '4400 - 6800', '1092', '2264', '1033', '810', '1045', '1337',\n",
       "       '1570', '1855', '1823', '1094', '1202', '1688', '1235', '3205',\n",
       "       '1077', '2330', '425', '5270', '1468', '4300', '2280', '1341',\n",
       "       '1279', '2760', '1101', '775', '667', '735', '4360', '1215', '820',\n",
       "       '1160 - 1195', '1779', '1000Sq. Meter', '1694', '2376', '1975',\n",
       "       '674', '445', '1618', '2181', '1556', '1179', '1275', '1615',\n",
       "       '4000 - 5249', '920', '1602', '1176', '675', '1352', '1717',\n",
       "       '10961', '2119', '1157', '1566', '2830', '1091', '3670', '918',\n",
       "       '1950', '1695', '1705', '1447', '1114', '1022', '3761', '1339',\n",
       "       '1198', '1691', '1115 - 1130', '2489', '1142', '1976', '5500',\n",
       "       '1853', '1567', '995', '884', '1342', '1345', '1100Sq. Yards',\n",
       "       '1652', '1740', '1278', '520 - 645', '1356', '823', '1897', '1575',\n",
       "       '975', '686', '1410', '2238', '1174', '793', '1082', '1001',\n",
       "       '1554', '1000 - 1285', '4239', '1680', '2470', '2825', '2480',\n",
       "       '1799', '3606 - 5091', '1047', '1495', '3260', '1611', '3206',\n",
       "       '1639', '1303', '650 - 665', '901', '1725', '1396', '1825', '1565',\n",
       "       '1891', '1161', '633 - 666', '315', '665', '1255', '2112.95',\n",
       "       '1810', '1548', '1485', '1256', '2268', '4100', '5.31Acres', '15',\n",
       "       '1843', '1467', '1209', '1315', '3968', '1563', '2169', '3235',\n",
       "       '1036', '1662', '1234', '1403', '915', '3900', '1405', '2557',\n",
       "       '1480', '30Acres', '6136', '1390', '3100', '1824', '1561', '812',\n",
       "       '1243', '1637', '1265', '24', '1666', '1357', '1093', '1865',\n",
       "       '1039', '1985', '1520', '6000', '1117', '1937', '1053', '1625',\n",
       "       '1397', '1523', '996', '3095', '1445 - 1455', '697', '884 - 1116',\n",
       "       '1453', '3335', '850 - 1093', '1281', '565', '1024', '1233',\n",
       "       '1510', '1945', '1008', '2689', '1697', '1651', '1078', '1314',\n",
       "       '856', '1621', '1484', '14000', '485', '1617', '1384', '1408',\n",
       "       '2292', '2006', '1984', '1960', '3024', '1586', '2325',\n",
       "       '1440 - 1884', '924', '1006', '2842', '1558.67', '1542', '2750',\n",
       "       '3596', '1635', '1239', '1596', '1009', '1726', '925', '3356',\n",
       "       '1395', '1121', '1606', '4634', '1232', '680', '3467.86', '1132',\n",
       "       '1262', '1840', '1655', '1730', '2195', '1079', '1085', '3200',\n",
       "       '1739', '4346', '935', '1178', '1065', '999', '1835', '2090',\n",
       "       '1519', '1267', '1146', '3329', '785', '921', '2700', '1197',\n",
       "       '716Sq. Meter', '3073', '755', '1213', '1654', '1367', '620',\n",
       "       '982', '440', '1614', '1363', '1156', '1455', '1890', '2197',\n",
       "       '3522', '764', '1381', '340', '2465', '547.34 - 827.31', '865',\n",
       "       '1756', '628', '1765', '1532', '804.1', '1525', '1435', '1272',\n",
       "       '1541', '1201', '1785', '1258', '1297', '1291', '1012', '2790',\n",
       "       '580 - 650', '1373', '1052', '3680', '2863', '2424', '2710',\n",
       "       '3040', '1294', '1808', '3516', '3850', '3770', '1537', '1512',\n",
       "       '1378', '1277', '8000', '2550', '3198', '1690', '2572', '520',\n",
       "       '1219', '1564', '3425 - 3435', '1482', '1469', '551', '1745',\n",
       "       '1269.72', '1266', '1168', '1552', '1804 - 2273', '817', '2070',\n",
       "       '1815', '654', '1181', '1616', '1306', '1626', '1585', '1370',\n",
       "       '3250', '3630 - 3800', '660 - 670', '1193', '1678',\n",
       "       '1500Sq. Meter', '2780', '2422', '882', '620 - 933', '1757',\n",
       "       '142.61Sq. Meter', '2028', '2611', '1163', '1098', '1418',\n",
       "       '2695 - 2940', '727', '2774', '1722', '2000 - 5634', '914', '1184',\n",
       "       '927', '1488', '1699', '712', '1476', '1429', '1188',\n",
       "       '1574Sq. Yards', '1026', '2690', '3606', '3630', '1494', '1758',\n",
       "       '3450 - 3472', '3675', '2337', '5800', '682', '1632', '1041',\n",
       "       '5080', '3012', '1072', '52272', '726', '993', '1743', '1204',\n",
       "       '640', '972', '955', '2479.13', '3042', '1068', '1354', '1238',\n",
       "       '2204', '1364', '1329', '916', '688', '1331', '2106', '1718',\n",
       "       '1936', '2172.65', '990', '1685', '740', '1172', '896', '2460',\n",
       "       '2025', '2475', '765', '3155', '1980', '3555', '585', '2045',\n",
       "       '6150', '671', '2017', '1139', '581.91', '1158', '3951', '360',\n",
       "       '1307', '1703', '1343', '1852', '1546', '1424', '1398', '1322',\n",
       "       '432', '4750', '1250 - 1305', '1571', '1031', '1109', '2350',\n",
       "       '1003', '824', '9600', '1111', '2519', '1837', '1673', '1112',\n",
       "       '545', '670 - 980', '1754', '3584', '2168', '3125', '1095', '870',\n",
       "       '1708', '1183', '3067', '1929', '1775', '1268', '1687', '3526',\n",
       "       '983', '2039', '1316', '1005.03 - 1252.49', '1605', '1313', '1934',\n",
       "       '877', '936', '1901', '1819', '3245', '1845', '2254', '515',\n",
       "       '1893', '3025', '830', '2145', '1004 - 1204', '361.33Sq. Yards',\n",
       "       '987', '2556', '946', '2121', '860', '1223', '1788', '1144',\n",
       "       '1862', '1646', '1995', '1692', '6040', '2040', '1311', '4850',\n",
       "       '645 - 936', '1942', '668', '1089', '960', '1583', '1018', '3400',\n",
       "       '2710 - 3360', '395', '1259', '1216', '1428', '605', '1444',\n",
       "       '1187', '1452.55', '2357', '1448', '296', '1058', '1411',\n",
       "       '2249.81 - 4112.19', '2503', '2524', '1634', '1603', '714', '1573',\n",
       "       '1465', '351', '2526', '3436 - 3643', '965', '1229', '2830 - 2882',\n",
       "       '1055', '1304', '2720', '596 - 804', '1365', '1165', '1776.42',\n",
       "       '1107', '2319', '1536', '1164', '11338', '30000', '3190', '1917',\n",
       "       '1071', '4460', '3297', '693', '1021', '1608', '2289', '2257',\n",
       "       '1263', '1255 - 1863', '1043', '1300 - 1405', '590', '1299',\n",
       "       '3161', '1124', '871', '3515', '1118', '1051', '1478', '1226',\n",
       "       '3366', '760', '1728', '2215', '1562', '1555', '2105', '6200',\n",
       "       '606', '527', '2321', '1500 - 2400', '2167', '1274',\n",
       "       '117Sq. Yards', '780', '7500', '904', '730', '977', '2540', '795',\n",
       "       '1463', '2401', '2065', '934 - 1437', '980 - 1030', '1549',\n",
       "       '1564 - 1850', '1452.19', '2849', '734', '799', '1896', '3875',\n",
       "       '1493', '1366', '3010', '1446 - 1506', '4235', '2002', '1419.59',\n",
       "       '5530', '1392', '1675', '792', '1248', '1147', '1527', '1332',\n",
       "       '933', '461.82', '2392', '989', '1199', '1149', '2180', '1818',\n",
       "       '2430', '2820', '4772', '3960', '5600', '1553', '5400', '794',\n",
       "       '4051', '1351', '8321', '1777', '1576', '648', '2721', '2265',\n",
       "       '2220', '1070 - 1315', '1888', '1559', '905', '829',\n",
       "       '3040Sq. Meter', '2409', '3640', '1749', '1127', '4190', '1247',\n",
       "       '420', '1672', '500Sq. Yards', '1817', '2043', '2779', '1224',\n",
       "       '1517', '1086', '1588', '1020.07', '5965', '2806 - 3019',\n",
       "       '613 - 648', '3537', '615', '1430 - 1630', '956', '1218', '2559',\n",
       "       '2363', '3895', '885', '1451.5', '3016', '1336', '673', '1719',\n",
       "       '664', '1011', '704 - 730', '1231', '2024', '2408', '2240',\n",
       "       '1584.01', '685', '1858', '3530', '3436', '1335', '1999', '3950',\n",
       "       '1205.47', '923', '3595', '1482 - 1846', '944', '832', '3259',\n",
       "       '1457', '858', '1689.28', '2805 - 3565', '1241', '2340', '596',\n",
       "       '10000', '3126', '1318', '4428', '2912', '1301', '1819.18', '2059',\n",
       "       '1269', '888', '532', '902', '4025', '1676', '1137', '3227',\n",
       "       '2170', '2940', '1915', '963', '1682', '1371', '3785', '1203',\n",
       "       '350', '835', '815', '1134', '769', '1712', '1088', '1106', '1591',\n",
       "       '1918', '2990', '1344', '2113', '1884', '703', '1302', '3262',\n",
       "       '919', '1159', '1386', '3293 - 5314', '2080', '2386', '1531',\n",
       "       '1839', '1210 - 1477', '1513', '892', '1104', '4818', '4355',\n",
       "       '908', '3369 - 3464', '3216', '1023', '1574', '2360', '1452',\n",
       "       '1125 - 1500', '813', '3884', '3876', '1880', '2425', '1097',\n",
       "       '937', '897', '1653', '1212', '2776', '3480', '1965', '1', '1738',\n",
       "       '2372', '167Sq. Meter', '1016', '1076 - 1199', '1827', '2651',\n",
       "       '1752', '2270', '971', '7000', '2342', '381 - 535', '6600',\n",
       "       '1627.86', '3004', '1182', '2215 - 2475', '635', '2062', '1874',\n",
       "       '1171', '2020', '1059', '524 - 894', '2388', '1369.1', '1938',\n",
       "       '2462', '1636', '2885', '1462', '607', '3295', '1076', '1053.4',\n",
       "       '540 - 670', '315Sq. Yards', '1505', '1698', '2560', '1856',\n",
       "       '1650 - 2538', '3445', '2283', '1382', '3815', '3730', '1391',\n",
       "       '4827', '745', '1276', '833', '669', '1594', '1037', '3811',\n",
       "       '1996', '2275', '1842', '1048', '1466', '3860', '3027', '1734',\n",
       "       '704', '3657', '1096', '580', '2725 - 3250', '1830', '1746',\n",
       "       '1732.46', '2592', '4470', '624', '722', '2775', '706', '610',\n",
       "       '4356', '1394', '2138', '910.2', '4960', '575', '3179', '2928',\n",
       "       '909', '1932', '655', '662', '2182', '2416', '1948', '3905',\n",
       "       '2107', '2431', '1257', '1789', '2675', '1081', '3360', '2882',\n",
       "       '2320', '1402', '4640', '818', '9000', '1169', '997', '958',\n",
       "       '1288', '3035', '1974 - 2171', '661', '300', '1751', '1778', '814',\n",
       "       '2006.8', '435', '1922', '888 - 1290', '3754', '1449',\n",
       "       '1360 - 1890', '2658', '1711', '418', '2370', '3520', '5', '1539',\n",
       "       '1004', '5985', '1046', '2493', '992', '2466 - 2856', '3580',\n",
       "       '1067', '2461', '1437', '1795', '2155', '4260', '1486', '555',\n",
       "       '4830', '2383', '1103', '1721', '2266', '1123', '1328', '2111',\n",
       "       '1538', '3080', '787', '938', '660 - 700', '6613', '502', '3339',\n",
       "       '670', '1483', '2162', '1733', '1221', '1376', '1832', '1974',\n",
       "       '849', '1706', '385 - 440', '2631', '2792', '1518', '480',\n",
       "       '2100 - 5405', '1930', '1679', '2448', '770 - 841', '2171', '1136',\n",
       "       '1477', '42000', '1312', '1793', '1551', '3563', '462', '3Cents',\n",
       "       '1310 - 1615', '36000', '1113.12', '2640', '1782 - 2000', '1643',\n",
       "       '621', '1309', '981', '1548.3', '2302', '1525.84', '1227',\n",
       "       '188.89Sq. Yards', '797', '2396', '1939', '3401', '1469 - 1766',\n",
       "       '1434', '2246', '4510', '560', '1138', '204Sq. Meter',\n",
       "       '1255 - 1350', '725', '1766', '870 - 1080', '625', '45Sq. Yards',\n",
       "       '948', '1914', '1334', '3940', '2777.29', '1014', '695', '2273',\n",
       "       '3160', '1769', '133.3Sq. Yards', '1554.3', '4920', '627',\n",
       "       '3405.1', '1498', '922', '2403', '1236', '2570', '1442', '1732',\n",
       "       '2580 - 2591', '881', '951', '1652.5', '3532', '2601', '2159',\n",
       "       '906', '4700', '2384', '941', '1414', '2563 - 2733', '2005',\n",
       "       '605 - 624', '4260 - 4408', '2582', '2663', '2127', '1349 - 3324',\n",
       "       '3930', '1293', '45', '658', '78.03Sq. Meter', '1208.51',\n",
       "       '3300 - 3335', '1622', '2435', '1737', '1776', '1347', '2259',\n",
       "       '2328', '1180 - 1630', '602', '806', '1416', '1628', '1660.4',\n",
       "       '1507', '1949', '4075', '2880', '1987', '1191', '497', '672',\n",
       "       '2245', '1597', '2423', '3131', '827', '396', '4273', '1261',\n",
       "       '1458', '1365 - 1700', '876', '690', '3500 - 3600', '1073',\n",
       "       '122Sq. Yards', '2172', '1689', '1667', '934', '84.53Sq. Meter',\n",
       "       '651', '2.09Acres', '1482 - 1684', '2075', '583', '981 - 1249',\n",
       "       '2099', '1237', '2108', '2324', '2968', '644', '1859',\n",
       "       '1100 - 1225', '1565 - 1595', '2232', '2932', '3425', '1504',\n",
       "       '3820', '24Guntha', '1831', '1270 - 1275', '840 - 1010', '947',\n",
       "       '697Sq. Meter', '1805', '1677', '1716', '1864', '638', '4856',\n",
       "       '4003', '1492', '1489', '1431', '3664', '539', '2520', '2173',\n",
       "       '655 - 742', '3170', '907', '800 - 2660', '1741', '3463', '2120',\n",
       "       '1107.83', '505', '1408 - 1455', '2901', '4050 - 4075', '1713',\n",
       "       '1266.67', '942 - 1117', '2679', '1777.26', '3044', '3150', '3090',\n",
       "       '1750 - 2640', '2093', '790', '1744', '2476', '1877', '1649',\n",
       "       '766', '1593', '1333', '1390 - 1600', '598 - 958', '1631', '1013',\n",
       "       '1500Cents', '4250', '1829', '5720', '2047', '2132', '1412',\n",
       "       '1044', '7200', '646', '2456', '1439', '2210', '1409', '5924',\n",
       "       '552', '2365', '864', '1806', '1066', '2293', '1903', '1567.2',\n",
       "       '26136', '959', '132Sq. Yards', '855', '1885', '1691.2',\n",
       "       '1010 - 1300', '2122', '11000', '1099', '2Acres', '1283',\n",
       "       '3103 - 3890', '1450 - 1950', '2023', '2274.24', '4900', '2079',\n",
       "       '3589', '1770', '1244', '470', '2095', '2134', '2515', '1970',\n",
       "       '2665', '2130', '1100Sq. Meter', '947.55', '1421', '15Acres',\n",
       "       '3990', '2501', '381', '3301.8', '1450 - 1595', '3204', '3408',\n",
       "       '1496', '1860', '3489', '4166', '1763', '763 - 805', '1002',\n",
       "       '3307 - 3464', '2260', '1.26Acres', '5422', '620 - 934', '1542.14',\n",
       "       '3746', '5100', '2144.6', '1087', '1061', '2462 - 2467',\n",
       "       '540 - 740', '10200', '5200', '1618 - 1929', '20000', '1284',\n",
       "       '3508 - 4201', '1613', '6830', '3692', '1503', '4408', '7800',\n",
       "       '1962', '1894', '1568', '4900 - 4940', '3060', '873', '2666',\n",
       "       '1610 - 1880', '3633', '755 - 770', '3978', '3621', '2008', '1362',\n",
       "       '694', '1674', '3033', '1181.7', '1338', '2625', '2041', '3565',\n",
       "       '1502', '3870', '4097', '1601', '664 - 722', '2380', '3569',\n",
       "       '151.11Sq. Yards', '3435', '3144', '700 - 900', '3602', '1074',\n",
       "       '596 - 861', '952', '1432', '2251', '2439', '1032', '1998', '3056',\n",
       "       '808', '1836', '826', '2317', '666', '3293', '3197', '1516',\n",
       "       '1491', '1881', '1217', '3230', '1925 - 2680', '973', '4110',\n",
       "       '2533', '615 - 985', '2297', '1057', '1471', '3855', '7400',\n",
       "       '4170', '2375', '1506', '1872', '5108', '1393', '2496', '8400',\n",
       "       '1558', '1054', '2646', '1633', '540 - 565', '2736', '616', '6500',\n",
       "       '1547', '663', '1707', '1324', '1786', '1368', '535', '2003',\n",
       "       '2504', '4290', '410', '2087.01', '750 - 800', '1660 - 1805',\n",
       "       '2704', '3760', '3071', '4600', '2429', '2925', '1919', '1719.3',\n",
       "       '1668', '1609', '3420', '1861', '3362', '1410 - 1710',\n",
       "       '1079 - 1183', '2800 - 2870', '2015', '1230 - 1290', '2048',\n",
       "       '1119', '943 - 1220', '1797', '1816', '2041 - 2090', '588',\n",
       "       '1234.6', '492', '1902', '1214', '753', '1763.25', '527 - 639',\n",
       "       '1129', '2367', '456', '4320', '534', '2249.81', '3626', '2110',\n",
       "       '4560', '1Grounds', '1160 - 1315', '706 - 716', '3560', '1441',\n",
       "       '3508', '2940Sq. Yards', '2996', '994', '702', '3496', '612',\n",
       "       '1623', '1792', '1587', '2125', '1529', '1319', '991', '717',\n",
       "       '3117', '1844', '1791 - 4000', '2648', '2223', '45.06Sq. Meter',\n",
       "       '799 - 803', '2185', '998', '2733', '1389', '2970', '1907', '4446',\n",
       "       '2470 - 2790', '3009', '783 - 943', '1905', '5384', '1723', '1607',\n",
       "       '5150', '2956', '1522', '3210', '5425', '978', '4041', '3628',\n",
       "       '2437', '3270', '857', '2247', '2980', '570', '2087', '4278',\n",
       "       '4500 - 5540', '10030', '3005', '4201', '4382', '2140', '1921',\n",
       "       '1669', '2285', '1642', '1361', '2801.25', '1688.12', '939',\n",
       "       '1298', '3350', '1255 - 1375', '2950', '1733.5', '10624', '3418',\n",
       "       '691', '3092', '610 - 615', '3913', '1049', '2030', '2404', '1423',\n",
       "       '633', '854 - 960', '2597', '1211', '1981', '2650 - 2990', '7514',\n",
       "       '1.25Acres', '86.72Sq. Meter', '2735', '1287', '284', '2077',\n",
       "       '499', '2826', '4550', '524', '1230 - 1490', '2495', '3075',\n",
       "       '1426', '2082', '2214', '896.9', '2064', '488', '660 - 780',\n",
       "       '2916', '2088', '581', '516', '2569', '3758', '1383', '2316',\n",
       "       '1626.6', '1348', '4303', '1990', '1940', '1189', '4482', '986',\n",
       "       '1150 - 1194', '2507', '684 - 810', '866.28', '3410', '2098',\n",
       "       '1761', '509', '3535', '1154', '1200 - 1800', '3019',\n",
       "       '1510 - 1670', '1748', '1604', '1248.52', '1370.07', '1550 - 1590',\n",
       "       '777.4', '1886', '3453', '623', '2546', '943', '1879', '1401',\n",
       "       '1235 - 1410', '3484 - 3550', '1139.7', '1323', '38Guntha', '3280',\n",
       "       '1581', '929 - 1078', '2150 - 2225', '2051', '3381', '2312',\n",
       "       '1520 - 1759', '4450', '784', '6652', '976', '4694', '302',\n",
       "       '629 - 1026', '2282', '1814', '2695', '60', '1215 - 1495', '842',\n",
       "       '6Acres', '1140 - 1250', '4304', '4209', '2415', '1731', '1589',\n",
       "       '1473', '4040', '2406', '2400 - 2600', '2137', '2787', '3175',\n",
       "       '1052 - 1322', '2035', '8840', '1684', '5666 - 5669', '614',\n",
       "       '2162.03', '6729', '893', '2019', '1747', '1524', '1273', '2615',\n",
       "       '772', '2999.97', '1289', '1377', '1892', '2176', '3554', '3671',\n",
       "       '1681', '2236', '2955', '1950.2', '712 - 938', '2171.66',\n",
       "       '1783 - 1878', '120Sq. Yards', '3729', '953', '5515',\n",
       "       '24Sq. Meter', '1321', '1317', '2528 - 3188', '2031', '1454',\n",
       "       '2153', '475', '1623.29', '650 - 760', '5480', '5656', '866',\n",
       "       '3504', '4723', '2453', '2505', '567', '1400 - 1421', '4350',\n",
       "       '1443', '886', '16335', '747', '1857', '1876', '1916',\n",
       "       '4000 - 4450', '142.84Sq. Meter', '3734', '964', '4007',\n",
       "       '300Sq. Yards', '2875', '2295', '1686', '1989', '754', '2444',\n",
       "       '3290', '1932.47', '2086', '2204 - 2362', '911', '2206', '1659',\n",
       "       '2485', '1437 - 1629', '850 - 1060', '30400', '1701', '1264',\n",
       "       '1557', '1200 - 1470', '7150', '1369', '5665.84', '2920', '6688',\n",
       "       '1331.95', '2872', '1648', '1379', '3124', '9200', '613', '250',\n",
       "       '2395', '1020 - 1130', '2758', '1133 - 1384', '774', '4689'],\n",
       "      dtype=object)"
      ]
     },
     "execution_count": 12,
     "metadata": {},
     "output_type": "execute_result"
    }
   ],
   "source": [
    "arr"
   ]
  },
  {
   "cell_type": "code",
   "execution_count": 13,
   "metadata": {},
   "outputs": [],
   "source": [
    "def clean_total_sqft(x):\n",
    "    tokens = x.split('-')\n",
    "\n",
    "    if len(tokens) == 2:\n",
    "        try:\n",
    "            return (float(tokens[0]) + float(tokens[1])) / 2.0\n",
    "        except ValueError:\n",
    "            return np.NAN \n",
    "    else:\n",
    "        x = x.strip()\n",
    "        try:\n",
    "            return float(x)\n",
    "        except ValueError:\n",
    "            return np.NAN"
   ]
  },
  {
   "cell_type": "code",
   "execution_count": 14,
   "metadata": {},
   "outputs": [],
   "source": [
    "price_df['total_sqft_updated']= price_df['total_sqft'].apply(clean_total_sqft)"
   ]
  },
  {
   "cell_type": "code",
   "execution_count": 15,
   "metadata": {},
   "outputs": [],
   "source": [
    "price_df.drop(['total_sqft', 'size', 'availability', 'society'], axis= 'columns', inplace= True)"
   ]
  },
  {
   "cell_type": "code",
   "execution_count": 16,
   "metadata": {},
   "outputs": [],
   "source": [
    "price_df.dropna(inplace= True)"
   ]
  },
  {
   "cell_type": "code",
   "execution_count": 17,
   "metadata": {},
   "outputs": [
    {
     "data": {
      "text/html": [
       "<div>\n",
       "<style scoped>\n",
       "    .dataframe tbody tr th:only-of-type {\n",
       "        vertical-align: middle;\n",
       "    }\n",
       "\n",
       "    .dataframe tbody tr th {\n",
       "        vertical-align: top;\n",
       "    }\n",
       "\n",
       "    .dataframe thead th {\n",
       "        text-align: right;\n",
       "    }\n",
       "</style>\n",
       "<table border=\"1\" class=\"dataframe\">\n",
       "  <thead>\n",
       "    <tr style=\"text-align: right;\">\n",
       "      <th></th>\n",
       "      <th>area_type</th>\n",
       "      <th>location</th>\n",
       "      <th>bath</th>\n",
       "      <th>balcony</th>\n",
       "      <th>price</th>\n",
       "      <th>size_bhk</th>\n",
       "      <th>total_sqft_updated</th>\n",
       "    </tr>\n",
       "  </thead>\n",
       "  <tbody>\n",
       "    <tr>\n",
       "      <th>0</th>\n",
       "      <td>Super built-up  Area</td>\n",
       "      <td>Electronic City Phase II</td>\n",
       "      <td>2.0</td>\n",
       "      <td>1.0</td>\n",
       "      <td>39.07</td>\n",
       "      <td>2.0</td>\n",
       "      <td>1056.0</td>\n",
       "    </tr>\n",
       "    <tr>\n",
       "      <th>1</th>\n",
       "      <td>Plot  Area</td>\n",
       "      <td>Chikka Tirupathi</td>\n",
       "      <td>5.0</td>\n",
       "      <td>3.0</td>\n",
       "      <td>120.00</td>\n",
       "      <td>4.0</td>\n",
       "      <td>2600.0</td>\n",
       "    </tr>\n",
       "    <tr>\n",
       "      <th>2</th>\n",
       "      <td>Built-up  Area</td>\n",
       "      <td>Uttarahalli</td>\n",
       "      <td>2.0</td>\n",
       "      <td>3.0</td>\n",
       "      <td>62.00</td>\n",
       "      <td>3.0</td>\n",
       "      <td>1440.0</td>\n",
       "    </tr>\n",
       "    <tr>\n",
       "      <th>3</th>\n",
       "      <td>Super built-up  Area</td>\n",
       "      <td>Lingadheeranahalli</td>\n",
       "      <td>3.0</td>\n",
       "      <td>1.0</td>\n",
       "      <td>95.00</td>\n",
       "      <td>3.0</td>\n",
       "      <td>1521.0</td>\n",
       "    </tr>\n",
       "    <tr>\n",
       "      <th>4</th>\n",
       "      <td>Super built-up  Area</td>\n",
       "      <td>Kothanur</td>\n",
       "      <td>2.0</td>\n",
       "      <td>1.0</td>\n",
       "      <td>51.00</td>\n",
       "      <td>2.0</td>\n",
       "      <td>1200.0</td>\n",
       "    </tr>\n",
       "  </tbody>\n",
       "</table>\n",
       "</div>"
      ],
      "text/plain": [
       "              area_type                  location  bath  balcony   price  \\\n",
       "0  Super built-up  Area  Electronic City Phase II   2.0      1.0   39.07   \n",
       "1            Plot  Area          Chikka Tirupathi   5.0      3.0  120.00   \n",
       "2        Built-up  Area               Uttarahalli   2.0      3.0   62.00   \n",
       "3  Super built-up  Area        Lingadheeranahalli   3.0      1.0   95.00   \n",
       "4  Super built-up  Area                  Kothanur   2.0      1.0   51.00   \n",
       "\n",
       "   size_bhk  total_sqft_updated  \n",
       "0       2.0              1056.0  \n",
       "1       4.0              2600.0  \n",
       "2       3.0              1440.0  \n",
       "3       3.0              1521.0  \n",
       "4       2.0              1200.0  "
      ]
     },
     "execution_count": 17,
     "metadata": {},
     "output_type": "execute_result"
    }
   ],
   "source": [
    "price_df.head()"
   ]
  },
  {
   "cell_type": "markdown",
   "metadata": {},
   "source": [
    "##### Let's look at the distribution of numerical attributes"
   ]
  },
  {
   "cell_type": "code",
   "execution_count": 18,
   "metadata": {},
   "outputs": [],
   "source": [
    "numerical_column_list= [col for col in price_df.columns if price_df[col].dtype== 'int' or price_df[col].dtype== 'float']"
   ]
  },
  {
   "cell_type": "code",
   "execution_count": 19,
   "metadata": {},
   "outputs": [
    {
     "data": {
      "text/html": [
       "<div>\n",
       "<style scoped>\n",
       "    .dataframe tbody tr th:only-of-type {\n",
       "        vertical-align: middle;\n",
       "    }\n",
       "\n",
       "    .dataframe tbody tr th {\n",
       "        vertical-align: top;\n",
       "    }\n",
       "\n",
       "    .dataframe thead th {\n",
       "        text-align: right;\n",
       "    }\n",
       "</style>\n",
       "<table border=\"1\" class=\"dataframe\">\n",
       "  <thead>\n",
       "    <tr style=\"text-align: right;\">\n",
       "      <th></th>\n",
       "      <th>bath</th>\n",
       "      <th>balcony</th>\n",
       "      <th>price</th>\n",
       "      <th>size_bhk</th>\n",
       "      <th>total_sqft_updated</th>\n",
       "    </tr>\n",
       "  </thead>\n",
       "  <tbody>\n",
       "    <tr>\n",
       "      <th>0</th>\n",
       "      <td>2.0</td>\n",
       "      <td>1.0</td>\n",
       "      <td>39.07</td>\n",
       "      <td>2.0</td>\n",
       "      <td>1056.0</td>\n",
       "    </tr>\n",
       "    <tr>\n",
       "      <th>1</th>\n",
       "      <td>5.0</td>\n",
       "      <td>3.0</td>\n",
       "      <td>120.00</td>\n",
       "      <td>4.0</td>\n",
       "      <td>2600.0</td>\n",
       "    </tr>\n",
       "    <tr>\n",
       "      <th>2</th>\n",
       "      <td>2.0</td>\n",
       "      <td>3.0</td>\n",
       "      <td>62.00</td>\n",
       "      <td>3.0</td>\n",
       "      <td>1440.0</td>\n",
       "    </tr>\n",
       "    <tr>\n",
       "      <th>3</th>\n",
       "      <td>3.0</td>\n",
       "      <td>1.0</td>\n",
       "      <td>95.00</td>\n",
       "      <td>3.0</td>\n",
       "      <td>1521.0</td>\n",
       "    </tr>\n",
       "    <tr>\n",
       "      <th>4</th>\n",
       "      <td>2.0</td>\n",
       "      <td>1.0</td>\n",
       "      <td>51.00</td>\n",
       "      <td>2.0</td>\n",
       "      <td>1200.0</td>\n",
       "    </tr>\n",
       "  </tbody>\n",
       "</table>\n",
       "</div>"
      ],
      "text/plain": [
       "   bath  balcony   price  size_bhk  total_sqft_updated\n",
       "0   2.0      1.0   39.07       2.0              1056.0\n",
       "1   5.0      3.0  120.00       4.0              2600.0\n",
       "2   2.0      3.0   62.00       3.0              1440.0\n",
       "3   3.0      1.0   95.00       3.0              1521.0\n",
       "4   2.0      1.0   51.00       2.0              1200.0"
      ]
     },
     "execution_count": 19,
     "metadata": {},
     "output_type": "execute_result"
    }
   ],
   "source": [
    "price_df_num= price_df[numerical_column_list]\n",
    "price_df_num.head()"
   ]
  },
  {
   "cell_type": "code",
   "execution_count": 20,
   "metadata": {},
   "outputs": [
    {
     "data": {
      "text/plain": [
       "array([[<Axes: title={'center': 'bath'}>,\n",
       "        <Axes: title={'center': 'balcony'}>],\n",
       "       [<Axes: title={'center': 'price'}>,\n",
       "        <Axes: title={'center': 'size_bhk'}>],\n",
       "       [<Axes: title={'center': 'total_sqft_updated'}>, <Axes: >]],\n",
       "      dtype=object)"
      ]
     },
     "execution_count": 20,
     "metadata": {},
     "output_type": "execute_result"
    },
    {
     "data": {
      "image/png": "[encoded data removed]",
      "text/plain": [
       "<Figure size 800x1000 with 6 Axes>"
      ]
     },
     "metadata": {},
     "output_type": "display_data"
    }
   ],
   "source": [
    "price_df_num.hist(figsize=(8, 10), bins=50, xlabelsize=8, ylabelsize=8)"
   ]
  },
  {
   "cell_type": "code",
   "execution_count": 21,
   "metadata": {},
   "outputs": [
    {
     "data": {
      "text/html": [
       "<div>\n",
       "<style scoped>\n",
       "    .dataframe tbody tr th:only-of-type {\n",
       "        vertical-align: middle;\n",
       "    }\n",
       "\n",
       "    .dataframe tbody tr th {\n",
       "        vertical-align: top;\n",
       "    }\n",
       "\n",
       "    .dataframe thead th {\n",
       "        text-align: right;\n",
       "    }\n",
       "</style>\n",
       "<table border=\"1\" class=\"dataframe\">\n",
       "  <thead>\n",
       "    <tr style=\"text-align: right;\">\n",
       "      <th></th>\n",
       "      <th>bath</th>\n",
       "      <th>balcony</th>\n",
       "      <th>price</th>\n",
       "      <th>size_bhk</th>\n",
       "      <th>total_sqft_updated</th>\n",
       "    </tr>\n",
       "  </thead>\n",
       "  <tbody>\n",
       "    <tr>\n",
       "      <th>count</th>\n",
       "      <td>12668.000000</td>\n",
       "      <td>12668.000000</td>\n",
       "      <td>12668.000000</td>\n",
       "      <td>12668.000000</td>\n",
       "      <td>12668.000000</td>\n",
       "    </tr>\n",
       "    <tr>\n",
       "      <th>mean</th>\n",
       "      <td>2.616277</td>\n",
       "      <td>1.585649</td>\n",
       "      <td>105.952648</td>\n",
       "      <td>2.736422</td>\n",
       "      <td>1511.835167</td>\n",
       "    </tr>\n",
       "    <tr>\n",
       "      <th>std</th>\n",
       "      <td>1.223882</td>\n",
       "      <td>0.816758</td>\n",
       "      <td>131.813137</td>\n",
       "      <td>1.202643</td>\n",
       "      <td>1162.097276</td>\n",
       "    </tr>\n",
       "    <tr>\n",
       "      <th>min</th>\n",
       "      <td>1.000000</td>\n",
       "      <td>0.000000</td>\n",
       "      <td>8.000000</td>\n",
       "      <td>1.000000</td>\n",
       "      <td>5.000000</td>\n",
       "    </tr>\n",
       "    <tr>\n",
       "      <th>25%</th>\n",
       "      <td>2.000000</td>\n",
       "      <td>1.000000</td>\n",
       "      <td>49.015000</td>\n",
       "      <td>2.000000</td>\n",
       "      <td>1100.000000</td>\n",
       "    </tr>\n",
       "    <tr>\n",
       "      <th>50%</th>\n",
       "      <td>2.000000</td>\n",
       "      <td>2.000000</td>\n",
       "      <td>70.000000</td>\n",
       "      <td>3.000000</td>\n",
       "      <td>1260.000000</td>\n",
       "    </tr>\n",
       "    <tr>\n",
       "      <th>75%</th>\n",
       "      <td>3.000000</td>\n",
       "      <td>2.000000</td>\n",
       "      <td>115.000000</td>\n",
       "      <td>3.000000</td>\n",
       "      <td>1640.000000</td>\n",
       "    </tr>\n",
       "    <tr>\n",
       "      <th>max</th>\n",
       "      <td>40.000000</td>\n",
       "      <td>3.000000</td>\n",
       "      <td>2912.000000</td>\n",
       "      <td>43.000000</td>\n",
       "      <td>52272.000000</td>\n",
       "    </tr>\n",
       "  </tbody>\n",
       "</table>\n",
       "</div>"
      ],
      "text/plain": [
       "               bath       balcony         price      size_bhk  \\\n",
       "count  12668.000000  12668.000000  12668.000000  12668.000000   \n",
       "mean       2.616277      1.585649    105.952648      2.736422   \n",
       "std        1.223882      0.816758    131.813137      1.202643   \n",
       "min        1.000000      0.000000      8.000000      1.000000   \n",
       "25%        2.000000      1.000000     49.015000      2.000000   \n",
       "50%        2.000000      2.000000     70.000000      3.000000   \n",
       "75%        3.000000      2.000000    115.000000      3.000000   \n",
       "max       40.000000      3.000000   2912.000000     43.000000   \n",
       "\n",
       "       total_sqft_updated  \n",
       "count        12668.000000  \n",
       "mean          1511.835167  \n",
       "std           1162.097276  \n",
       "min              5.000000  \n",
       "25%           1100.000000  \n",
       "50%           1260.000000  \n",
       "75%           1640.000000  \n",
       "max          52272.000000  "
      ]
     },
     "execution_count": 21,
     "metadata": {},
     "output_type": "execute_result"
    }
   ],
   "source": [
    "price_df_num.describe()"
   ]
  },
  {
   "cell_type": "markdown",
   "metadata": {},
   "source": [
    "##### From the above, we can conclude there are outlier,\n",
    "- Will be identifying the outliers based on z-scores\n",
    "- however, it will not be wise to calculate z-scores based on all the numerical data\n",
    "- so, I choosed to go with z_score of price_per_sq"
   ]
  },
  {
   "cell_type": "code",
   "execution_count": 27,
   "metadata": {},
   "outputs": [],
   "source": [
    "price_df['price_per_sqft']= (price_df['price']*100)/price_df['total_sqft_updated']"
   ]
  },
  {
   "cell_type": "code",
   "execution_count": 28,
   "metadata": {},
   "outputs": [
    {
     "data": {
      "text/html": [
       "<div>\n",
       "<style scoped>\n",
       "    .dataframe tbody tr th:only-of-type {\n",
       "        vertical-align: middle;\n",
       "    }\n",
       "\n",
       "    .dataframe tbody tr th {\n",
       "        vertical-align: top;\n",
       "    }\n",
       "\n",
       "    .dataframe thead th {\n",
       "        text-align: right;\n",
       "    }\n",
       "</style>\n",
       "<table border=\"1\" class=\"dataframe\">\n",
       "  <thead>\n",
       "    <tr style=\"text-align: right;\">\n",
       "      <th></th>\n",
       "      <th>area_type</th>\n",
       "      <th>location</th>\n",
       "      <th>bath</th>\n",
       "      <th>balcony</th>\n",
       "      <th>price</th>\n",
       "      <th>size_bhk</th>\n",
       "      <th>total_sqft_updated</th>\n",
       "      <th>price_per_sqft</th>\n",
       "    </tr>\n",
       "  </thead>\n",
       "  <tbody>\n",
       "    <tr>\n",
       "      <th>0</th>\n",
       "      <td>Super built-up  Area</td>\n",
       "      <td>Electronic City Phase II</td>\n",
       "      <td>2.0</td>\n",
       "      <td>1.0</td>\n",
       "      <td>39.07</td>\n",
       "      <td>2.0</td>\n",
       "      <td>1056.0</td>\n",
       "      <td>3.699811</td>\n",
       "    </tr>\n",
       "    <tr>\n",
       "      <th>1</th>\n",
       "      <td>Plot  Area</td>\n",
       "      <td>Chikka Tirupathi</td>\n",
       "      <td>5.0</td>\n",
       "      <td>3.0</td>\n",
       "      <td>120.00</td>\n",
       "      <td>4.0</td>\n",
       "      <td>2600.0</td>\n",
       "      <td>4.615385</td>\n",
       "    </tr>\n",
       "    <tr>\n",
       "      <th>2</th>\n",
       "      <td>Built-up  Area</td>\n",
       "      <td>Uttarahalli</td>\n",
       "      <td>2.0</td>\n",
       "      <td>3.0</td>\n",
       "      <td>62.00</td>\n",
       "      <td>3.0</td>\n",
       "      <td>1440.0</td>\n",
       "      <td>4.305556</td>\n",
       "    </tr>\n",
       "  </tbody>\n",
       "</table>\n",
       "</div>"
      ],
      "text/plain": [
       "              area_type                  location  bath  balcony   price  \\\n",
       "0  Super built-up  Area  Electronic City Phase II   2.0      1.0   39.07   \n",
       "1            Plot  Area          Chikka Tirupathi   5.0      3.0  120.00   \n",
       "2        Built-up  Area               Uttarahalli   2.0      3.0   62.00   \n",
       "\n",
       "   size_bhk  total_sqft_updated  price_per_sqft  \n",
       "0       2.0              1056.0        3.699811  \n",
       "1       4.0              2600.0        4.615385  \n",
       "2       3.0              1440.0        4.305556  "
      ]
     },
     "execution_count": 28,
     "metadata": {},
     "output_type": "execute_result"
    }
   ],
   "source": [
    "price_df.head(3)"
   ]
  },
  {
   "cell_type": "code",
   "execution_count": 33,
   "metadata": {},
   "outputs": [],
   "source": [
    "zscores= zscore(price_df['price_per_sqft'])\n",
    "\n",
    "outliers = (abs(zscores) > 3)\n",
    "\n",
    "outlier_indices = price_df[outliers].index\n",
    "price_df.drop(outlier_indices, inplace=True)"
   ]
  },
  {
   "cell_type": "code",
   "execution_count": 35,
   "metadata": {},
   "outputs": [],
   "source": [
    "price_df.drop(['price_per_sqft'], axis= 'columns', inplace=True)"
   ]
  },
  {
   "cell_type": "code",
   "execution_count": 37,
   "metadata": {},
   "outputs": [],
   "source": [
    "label_mappings= {}\n",
    "en= LabelEncoder()\n",
    "price_df['area_type_le']= en.fit_transform(price_df['area_type'])\n",
    "label_mappings['area_type_le']= dict(zip(en.classes_, en.transform(en.classes_)))\n",
    "\n",
    "en1= LabelEncoder()\n",
    "price_df['location_le']= en1.fit_transform(price_df['location'])\n",
    "label_mappings['location_le']= dict(zip(en1.classes_, en1.transform(en1.classes_)))"
   ]
  },
  {
   "cell_type": "code",
   "execution_count": 38,
   "metadata": {},
   "outputs": [
    {
     "data": {
      "text/html": [
       "<div>\n",
       "<style scoped>\n",
       "    .dataframe tbody tr th:only-of-type {\n",
       "        vertical-align: middle;\n",
       "    }\n",
       "\n",
       "    .dataframe tbody tr th {\n",
       "        vertical-align: top;\n",
       "    }\n",
       "\n",
       "    .dataframe thead th {\n",
       "        text-align: right;\n",
       "    }\n",
       "</style>\n",
       "<table border=\"1\" class=\"dataframe\">\n",
       "  <thead>\n",
       "    <tr style=\"text-align: right;\">\n",
       "      <th></th>\n",
       "      <th>area_type</th>\n",
       "      <th>location</th>\n",
       "      <th>bath</th>\n",
       "      <th>balcony</th>\n",
       "      <th>price</th>\n",
       "      <th>size_bhk</th>\n",
       "      <th>total_sqft_updated</th>\n",
       "      <th>area_type_le</th>\n",
       "      <th>location_le</th>\n",
       "    </tr>\n",
       "  </thead>\n",
       "  <tbody>\n",
       "    <tr>\n",
       "      <th>0</th>\n",
       "      <td>Super built-up  Area</td>\n",
       "      <td>Electronic City Phase II</td>\n",
       "      <td>2.0</td>\n",
       "      <td>1.0</td>\n",
       "      <td>39.07</td>\n",
       "      <td>2.0</td>\n",
       "      <td>1056.0</td>\n",
       "      <td>3</td>\n",
       "      <td>404</td>\n",
       "    </tr>\n",
       "    <tr>\n",
       "      <th>1</th>\n",
       "      <td>Plot  Area</td>\n",
       "      <td>Chikka Tirupathi</td>\n",
       "      <td>5.0</td>\n",
       "      <td>3.0</td>\n",
       "      <td>120.00</td>\n",
       "      <td>4.0</td>\n",
       "      <td>2600.0</td>\n",
       "      <td>2</td>\n",
       "      <td>303</td>\n",
       "    </tr>\n",
       "    <tr>\n",
       "      <th>2</th>\n",
       "      <td>Built-up  Area</td>\n",
       "      <td>Uttarahalli</td>\n",
       "      <td>2.0</td>\n",
       "      <td>3.0</td>\n",
       "      <td>62.00</td>\n",
       "      <td>3.0</td>\n",
       "      <td>1440.0</td>\n",
       "      <td>0</td>\n",
       "      <td>1135</td>\n",
       "    </tr>\n",
       "  </tbody>\n",
       "</table>\n",
       "</div>"
      ],
      "text/plain": [
       "              area_type                  location  bath  balcony   price  \\\n",
       "0  Super built-up  Area  Electronic City Phase II   2.0      1.0   39.07   \n",
       "1            Plot  Area          Chikka Tirupathi   5.0      3.0  120.00   \n",
       "2        Built-up  Area               Uttarahalli   2.0      3.0   62.00   \n",
       "\n",
       "   size_bhk  total_sqft_updated  area_type_le  location_le  \n",
       "0       2.0              1056.0             3          404  \n",
       "1       4.0              2600.0             2          303  \n",
       "2       3.0              1440.0             0         1135  "
      ]
     },
     "execution_count": 38,
     "metadata": {},
     "output_type": "execute_result"
    }
   ],
   "source": [
    "price_df.head(3)"
   ]
  },
  {
   "cell_type": "code",
   "execution_count": null,
   "metadata": {},
   "outputs": [],
   "source": [
    "price_df.drop(['area_type', 'location'], axis= 'columns', inplace= True)"
   ]
  },
  {
   "cell_type": "markdown",
   "metadata": {},
   "source": [
    "### Model Selection"
   ]
  },
  {
   "cell_type": "code",
   "execution_count": 87,
   "metadata": {},
   "outputs": [],
   "source": [
    "\n",
    "algo_list= {\n",
    "    'linear_regression': {\n",
    "        'model': LinearRegression(),\n",
    "        'params': {\n",
    "            'copy_X': [True, False],\n",
    "            'fit_intercept': [True, False],\n",
    "            'n_jobs': [None, 1, 2, 4],\n",
    "            'positive': [False, True]\n",
    "        }\n",
    "    }, \n",
    "    'lasso': {\n",
    "        'model': Lasso(),\n",
    "        'params': {\n",
    "            'alpha': [1,2],\n",
    "            'selection': ['random', 'cyclic'],\n",
    "        }\n",
    "    }, \n",
    "    'decision_tree': {\n",
    "        'model': DecisionTreeRegressor(),\n",
    "        'params': {\n",
    "            'criterion': ['mse', 'friedman_mse'],\n",
    "            'splitter': ['best', 'random']\n",
    "        }\n",
    "    },\n",
    "    'random_forest': {\n",
    "        'model': RandomForestRegressor(),\n",
    "        'params': {\n",
    "            'n_estimators': [50, 100, 200],\n",
    "            'max_depth': [None, 10, 20],\n",
    "            'min_samples_split': [2, 5, 10],\n",
    "            'min_samples_leaf': [1, 2, 4]\n",
    "        }\n",
    "    },\n",
    "    'gradient_boosting': {\n",
    "        'model': GradientBoostingRegressor(),\n",
    "        'params': {\n",
    "            'n_estimators': [50, 100, 200],\n",
    "            'learning_rate': [0.01, 0.1, 0.2],\n",
    "            'max_depth': [3, 5, 7]\n",
    "        }\n",
    "    },\n",
    "    'svm': {\n",
    "        'model': SVR(),\n",
    "        'params': {\n",
    "            'kernel': ['linear', 'poly', 'rbf'],\n",
    "            'C': [0.1, 1, 10],\n",
    "            'epsilon': [0.01, 0.1, 1]\n",
    "        }\n",
    "    },\n",
    "    'knn': {\n",
    "        'model': KNeighborsRegressor(),\n",
    "        'params': {\n",
    "            'n_neighbors': [3, 5, 10],\n",
    "            'weights': ['uniform', 'distance'],\n",
    "            'p': [1, 2]  # 1 for Manhattan distance, 2 for Euclidean distance\n",
    "        }\n",
    "    }"
   ]
  },
  {
   "cell_type": "code",
   "execution_count": 88,
   "metadata": {},
   "outputs": [],
   "source": [
    "X= price_df.drop(['price'], axis='columns')\n",
    "y= price_df.price"
   ]
  },
  {
   "cell_type": "code",
   "execution_count": 89,
   "metadata": {},
   "outputs": [],
   "source": [
    "sc= StandardScaler()\n",
    "Xt= sc.fit_transform(X)"
   ]
  },
  {
   "cell_type": "code",
   "execution_count": 90,
   "metadata": {},
   "outputs": [],
   "source": [
    "X_train, X_test, y_train, y_test= train_test_split(Xt, y, test_size= 0.25)"
   ]
  },
  {
   "cell_type": "code",
   "execution_count": 91,
   "metadata": {},
   "outputs": [
    {
     "name": "stderr",
     "output_type": "stream",
     "text": [
      "c:\\Users\\rubal\\AppData\\Local\\Programs\\Python\\Python311\\Lib\\site-packages\\sklearn\\model_selection\\_validation.py:425: FitFailedWarning: \n",
      "10 fits failed out of a total of 20.\n",
      "The score on these train-test partitions for these parameters will be set to nan.\n",
      "If these failures are not expected, you can try to debug them by setting error_score='raise'.\n",
      "\n",
      "Below are more details about the failures:\n",
      "--------------------------------------------------------------------------------\n",
      "10 fits failed with the following error:\n",
      "Traceback (most recent call last):\n",
      "  File \"c:\\Users\\rubal\\AppData\\Local\\Programs\\Python\\Python311\\Lib\\site-packages\\sklearn\\model_selection\\_validation.py\", line 729, in _fit_and_score\n",
      "    estimator.fit(X_train, y_train, **fit_params)\n",
      "  File \"c:\\Users\\rubal\\AppData\\Local\\Programs\\Python\\Python311\\Lib\\site-packages\\sklearn\\base.py\", line 1145, in wrapper\n",
      "    estimator._validate_params()\n",
      "  File \"c:\\Users\\rubal\\AppData\\Local\\Programs\\Python\\Python311\\Lib\\site-packages\\sklearn\\base.py\", line 638, in _validate_params\n",
      "    validate_parameter_constraints(\n",
      "  File \"c:\\Users\\rubal\\AppData\\Local\\Programs\\Python\\Python311\\Lib\\site-packages\\sklearn\\utils\\_param_validation.py\", line 96, in validate_parameter_constraints\n",
      "    raise InvalidParameterError(\n",
      "sklearn.utils._param_validation.InvalidParameterError: The 'criterion' parameter of DecisionTreeRegressor must be a str among {'absolute_error', 'friedman_mse', 'squared_error', 'poisson'}. Got 'mse' instead.\n",
      "\n",
      "  warnings.warn(some_fits_failed_message, FitFailedWarning)\n",
      "c:\\Users\\rubal\\AppData\\Local\\Programs\\Python\\Python311\\Lib\\site-packages\\sklearn\\model_selection\\_search.py:979: UserWarning: One or more of the test scores are non-finite: [       nan        nan 0.30289072 0.36301799]\n",
      "  warnings.warn(\n"
     ]
    },
    {
     "ename": "ValueError",
     "evalue": "Invalid parameter 'normalize' for estimator Ridge(alpha=0.1). Valid parameters are: ['alpha', 'copy_X', 'fit_intercept', 'max_iter', 'positive', 'random_state', 'solver', 'tol'].",
     "output_type": "error",
     "traceback": [
      "\u001b[1;31m---------------------------------------------------------------------------\u001b[0m",
      "\u001b[1;31mValueError\u001b[0m                                Traceback (most recent call last)",
      "Cell \u001b[1;32mIn [91], line 6\u001b[0m\n\u001b[0;32m      4\u001b[0m \u001b[38;5;28;01mfor\u001b[39;00m algo_name, config \u001b[38;5;129;01min\u001b[39;00m algo_list\u001b[38;5;241m.\u001b[39mitems():\n\u001b[0;32m      5\u001b[0m     grids\u001b[38;5;241m=\u001b[39m GridSearchCV(config[\u001b[38;5;124m'\u001b[39m\u001b[38;5;124mmodel\u001b[39m\u001b[38;5;124m'\u001b[39m], config[\u001b[38;5;124m'\u001b[39m\u001b[38;5;124mparams\u001b[39m\u001b[38;5;124m'\u001b[39m], cv\u001b[38;5;241m=\u001b[39m cv, return_train_score\u001b[38;5;241m=\u001b[39m \u001b[38;5;28;01mFalse\u001b[39;00m)\n\u001b[1;32m----> 6\u001b[0m     \u001b[43mgrids\u001b[49m\u001b[38;5;241;43m.\u001b[39;49m\u001b[43mfit\u001b[49m\u001b[43m(\u001b[49m\u001b[43mX_train\u001b[49m\u001b[43m,\u001b[49m\u001b[43m \u001b[49m\u001b[43my_train\u001b[49m\u001b[43m)\u001b[49m\n\u001b[0;32m      8\u001b[0m     scores\u001b[38;5;241m.\u001b[39mappend({\n\u001b[0;32m      9\u001b[0m         \u001b[38;5;124m'\u001b[39m\u001b[38;5;124mmodel\u001b[39m\u001b[38;5;124m'\u001b[39m: algo_name,\n\u001b[0;32m     10\u001b[0m         \u001b[38;5;124m'\u001b[39m\u001b[38;5;124mbest_score\u001b[39m\u001b[38;5;124m'\u001b[39m: grids\u001b[38;5;241m.\u001b[39mbest_score_,\n\u001b[0;32m     11\u001b[0m         \u001b[38;5;124m'\u001b[39m\u001b[38;5;124mbest_params\u001b[39m\u001b[38;5;124m'\u001b[39m: grids\u001b[38;5;241m.\u001b[39mbest_params_\n\u001b[0;32m     12\u001b[0m     }  \n\u001b[0;32m     13\u001b[0m     )\n",
      "File \u001b[1;32mc:\\Users\\rubal\\AppData\\Local\\Programs\\Python\\Python311\\Lib\\site-packages\\sklearn\\base.py:1152\u001b[0m, in \u001b[0;36m_fit_context.<locals>.decorator.<locals>.wrapper\u001b[1;34m(estimator, *args, **kwargs)\u001b[0m\n\u001b[0;32m   1145\u001b[0m     estimator\u001b[38;5;241m.\u001b[39m_validate_params()\n\u001b[0;32m   1147\u001b[0m \u001b[38;5;28;01mwith\u001b[39;00m config_context(\n\u001b[0;32m   1148\u001b[0m     skip_parameter_validation\u001b[38;5;241m=\u001b[39m(\n\u001b[0;32m   1149\u001b[0m         prefer_skip_nested_validation \u001b[38;5;129;01mor\u001b[39;00m global_skip_validation\n\u001b[0;32m   1150\u001b[0m     )\n\u001b[0;32m   1151\u001b[0m ):\n\u001b[1;32m-> 1152\u001b[0m     \u001b[38;5;28;01mreturn\u001b[39;00m \u001b[43mfit_method\u001b[49m\u001b[43m(\u001b[49m\u001b[43mestimator\u001b[49m\u001b[43m,\u001b[49m\u001b[43m \u001b[49m\u001b[38;5;241;43m*\u001b[39;49m\u001b[43margs\u001b[49m\u001b[43m,\u001b[49m\u001b[43m \u001b[49m\u001b[38;5;241;43m*\u001b[39;49m\u001b[38;5;241;43m*\u001b[39;49m\u001b[43mkwargs\u001b[49m\u001b[43m)\u001b[49m\n",
      "File \u001b[1;32mc:\\Users\\rubal\\AppData\\Local\\Programs\\Python\\Python311\\Lib\\site-packages\\sklearn\\model_selection\\_search.py:898\u001b[0m, in \u001b[0;36mBaseSearchCV.fit\u001b[1;34m(self, X, y, groups, **fit_params)\u001b[0m\n\u001b[0;32m    892\u001b[0m     results \u001b[38;5;241m=\u001b[39m \u001b[38;5;28mself\u001b[39m\u001b[38;5;241m.\u001b[39m_format_results(\n\u001b[0;32m    893\u001b[0m         all_candidate_params, n_splits, all_out, all_more_results\n\u001b[0;32m    894\u001b[0m     )\n\u001b[0;32m    896\u001b[0m     \u001b[38;5;28;01mreturn\u001b[39;00m results\n\u001b[1;32m--> 898\u001b[0m \u001b[38;5;28;43mself\u001b[39;49m\u001b[38;5;241;43m.\u001b[39;49m\u001b[43m_run_search\u001b[49m\u001b[43m(\u001b[49m\u001b[43mevaluate_candidates\u001b[49m\u001b[43m)\u001b[49m\n\u001b[0;32m    900\u001b[0m \u001b[38;5;66;03m# multimetric is determined here because in the case of a callable\u001b[39;00m\n\u001b[0;32m    901\u001b[0m \u001b[38;5;66;03m# self.scoring the return type is only known after calling\u001b[39;00m\n\u001b[0;32m    902\u001b[0m first_test_score \u001b[38;5;241m=\u001b[39m all_out[\u001b[38;5;241m0\u001b[39m][\u001b[38;5;124m\"\u001b[39m\u001b[38;5;124mtest_scores\u001b[39m\u001b[38;5;124m\"\u001b[39m]\n",
      "File \u001b[1;32mc:\\Users\\rubal\\AppData\\Local\\Programs\\Python\\Python311\\Lib\\site-packages\\sklearn\\model_selection\\_search.py:1422\u001b[0m, in \u001b[0;36mGridSearchCV._run_search\u001b[1;34m(self, evaluate_candidates)\u001b[0m\n\u001b[0;32m   1420\u001b[0m \u001b[38;5;28;01mdef\u001b[39;00m \u001b[38;5;21m_run_search\u001b[39m(\u001b[38;5;28mself\u001b[39m, evaluate_candidates):\n\u001b[0;32m   1421\u001b[0m     \u001b[38;5;124;03m\"\"\"Search all candidates in param_grid\"\"\"\u001b[39;00m\n\u001b[1;32m-> 1422\u001b[0m     \u001b[43mevaluate_candidates\u001b[49m\u001b[43m(\u001b[49m\u001b[43mParameterGrid\u001b[49m\u001b[43m(\u001b[49m\u001b[38;5;28;43mself\u001b[39;49m\u001b[38;5;241;43m.\u001b[39;49m\u001b[43mparam_grid\u001b[49m\u001b[43m)\u001b[49m\u001b[43m)\u001b[49m\n",
      "File \u001b[1;32mc:\\Users\\rubal\\AppData\\Local\\Programs\\Python\\Python311\\Lib\\site-packages\\sklearn\\model_selection\\_search.py:845\u001b[0m, in \u001b[0;36mBaseSearchCV.fit.<locals>.evaluate_candidates\u001b[1;34m(candidate_params, cv, more_results)\u001b[0m\n\u001b[0;32m    837\u001b[0m \u001b[38;5;28;01mif\u001b[39;00m \u001b[38;5;28mself\u001b[39m\u001b[38;5;241m.\u001b[39mverbose \u001b[38;5;241m>\u001b[39m \u001b[38;5;241m0\u001b[39m:\n\u001b[0;32m    838\u001b[0m     \u001b[38;5;28mprint\u001b[39m(\n\u001b[0;32m    839\u001b[0m         \u001b[38;5;124m\"\u001b[39m\u001b[38;5;124mFitting \u001b[39m\u001b[38;5;132;01m{0}\u001b[39;00m\u001b[38;5;124m folds for each of \u001b[39m\u001b[38;5;132;01m{1}\u001b[39;00m\u001b[38;5;124m candidates,\u001b[39m\u001b[38;5;124m\"\u001b[39m\n\u001b[0;32m    840\u001b[0m         \u001b[38;5;124m\"\u001b[39m\u001b[38;5;124m totalling \u001b[39m\u001b[38;5;132;01m{2}\u001b[39;00m\u001b[38;5;124m fits\u001b[39m\u001b[38;5;124m\"\u001b[39m\u001b[38;5;241m.\u001b[39mformat(\n\u001b[0;32m    841\u001b[0m             n_splits, n_candidates, n_candidates \u001b[38;5;241m*\u001b[39m n_splits\n\u001b[0;32m    842\u001b[0m         )\n\u001b[0;32m    843\u001b[0m     )\n\u001b[1;32m--> 845\u001b[0m out \u001b[38;5;241m=\u001b[39m \u001b[43mparallel\u001b[49m\u001b[43m(\u001b[49m\n\u001b[0;32m    846\u001b[0m \u001b[43m    \u001b[49m\u001b[43mdelayed\u001b[49m\u001b[43m(\u001b[49m\u001b[43m_fit_and_score\u001b[49m\u001b[43m)\u001b[49m\u001b[43m(\u001b[49m\n\u001b[0;32m    847\u001b[0m \u001b[43m        \u001b[49m\u001b[43mclone\u001b[49m\u001b[43m(\u001b[49m\u001b[43mbase_estimator\u001b[49m\u001b[43m)\u001b[49m\u001b[43m,\u001b[49m\n\u001b[0;32m    848\u001b[0m \u001b[43m        \u001b[49m\u001b[43mX\u001b[49m\u001b[43m,\u001b[49m\n\u001b[0;32m    849\u001b[0m \u001b[43m        \u001b[49m\u001b[43my\u001b[49m\u001b[43m,\u001b[49m\n\u001b[0;32m    850\u001b[0m \u001b[43m        \u001b[49m\u001b[43mtrain\u001b[49m\u001b[38;5;241;43m=\u001b[39;49m\u001b[43mtrain\u001b[49m\u001b[43m,\u001b[49m\n\u001b[0;32m    851\u001b[0m \u001b[43m        \u001b[49m\u001b[43mtest\u001b[49m\u001b[38;5;241;43m=\u001b[39;49m\u001b[43mtest\u001b[49m\u001b[43m,\u001b[49m\n\u001b[0;32m    852\u001b[0m \u001b[43m        \u001b[49m\u001b[43mparameters\u001b[49m\u001b[38;5;241;43m=\u001b[39;49m\u001b[43mparameters\u001b[49m\u001b[43m,\u001b[49m\n\u001b[0;32m    853\u001b[0m \u001b[43m        \u001b[49m\u001b[43msplit_progress\u001b[49m\u001b[38;5;241;43m=\u001b[39;49m\u001b[43m(\u001b[49m\u001b[43msplit_idx\u001b[49m\u001b[43m,\u001b[49m\u001b[43m \u001b[49m\u001b[43mn_splits\u001b[49m\u001b[43m)\u001b[49m\u001b[43m,\u001b[49m\n\u001b[0;32m    854\u001b[0m \u001b[43m        \u001b[49m\u001b[43mcandidate_progress\u001b[49m\u001b[38;5;241;43m=\u001b[39;49m\u001b[43m(\u001b[49m\u001b[43mcand_idx\u001b[49m\u001b[43m,\u001b[49m\u001b[43m \u001b[49m\u001b[43mn_candidates\u001b[49m\u001b[43m)\u001b[49m\u001b[43m,\u001b[49m\n\u001b[0;32m    855\u001b[0m \u001b[43m        \u001b[49m\u001b[38;5;241;43m*\u001b[39;49m\u001b[38;5;241;43m*\u001b[39;49m\u001b[43mfit_and_score_kwargs\u001b[49m\u001b[43m,\u001b[49m\n\u001b[0;32m    856\u001b[0m \u001b[43m    \u001b[49m\u001b[43m)\u001b[49m\n\u001b[0;32m    857\u001b[0m \u001b[43m    \u001b[49m\u001b[38;5;28;43;01mfor\u001b[39;49;00m\u001b[43m \u001b[49m\u001b[43m(\u001b[49m\u001b[43mcand_idx\u001b[49m\u001b[43m,\u001b[49m\u001b[43m \u001b[49m\u001b[43mparameters\u001b[49m\u001b[43m)\u001b[49m\u001b[43m,\u001b[49m\u001b[43m \u001b[49m\u001b[43m(\u001b[49m\u001b[43msplit_idx\u001b[49m\u001b[43m,\u001b[49m\u001b[43m \u001b[49m\u001b[43m(\u001b[49m\u001b[43mtrain\u001b[49m\u001b[43m,\u001b[49m\u001b[43m \u001b[49m\u001b[43mtest\u001b[49m\u001b[43m)\u001b[49m\u001b[43m)\u001b[49m\u001b[43m \u001b[49m\u001b[38;5;129;43;01min\u001b[39;49;00m\u001b[43m \u001b[49m\u001b[43mproduct\u001b[49m\u001b[43m(\u001b[49m\n\u001b[0;32m    858\u001b[0m \u001b[43m        \u001b[49m\u001b[38;5;28;43menumerate\u001b[39;49m\u001b[43m(\u001b[49m\u001b[43mcandidate_params\u001b[49m\u001b[43m)\u001b[49m\u001b[43m,\u001b[49m\u001b[43m \u001b[49m\u001b[38;5;28;43menumerate\u001b[39;49m\u001b[43m(\u001b[49m\u001b[43mcv\u001b[49m\u001b[38;5;241;43m.\u001b[39;49m\u001b[43msplit\u001b[49m\u001b[43m(\u001b[49m\u001b[43mX\u001b[49m\u001b[43m,\u001b[49m\u001b[43m \u001b[49m\u001b[43my\u001b[49m\u001b[43m,\u001b[49m\u001b[43m \u001b[49m\u001b[43mgroups\u001b[49m\u001b[43m)\u001b[49m\u001b[43m)\u001b[49m\n\u001b[0;32m    859\u001b[0m \u001b[43m    \u001b[49m\u001b[43m)\u001b[49m\n\u001b[0;32m    860\u001b[0m \u001b[43m\u001b[49m\u001b[43m)\u001b[49m\n\u001b[0;32m    862\u001b[0m \u001b[38;5;28;01mif\u001b[39;00m \u001b[38;5;28mlen\u001b[39m(out) \u001b[38;5;241m<\u001b[39m \u001b[38;5;241m1\u001b[39m:\n\u001b[0;32m    863\u001b[0m     \u001b[38;5;28;01mraise\u001b[39;00m \u001b[38;5;167;01mValueError\u001b[39;00m(\n\u001b[0;32m    864\u001b[0m         \u001b[38;5;124m\"\u001b[39m\u001b[38;5;124mNo fits were performed. \u001b[39m\u001b[38;5;124m\"\u001b[39m\n\u001b[0;32m    865\u001b[0m         \u001b[38;5;124m\"\u001b[39m\u001b[38;5;124mWas the CV iterator empty? \u001b[39m\u001b[38;5;124m\"\u001b[39m\n\u001b[0;32m    866\u001b[0m         \u001b[38;5;124m\"\u001b[39m\u001b[38;5;124mWere there no candidates?\u001b[39m\u001b[38;5;124m\"\u001b[39m\n\u001b[0;32m    867\u001b[0m     )\n",
      "File \u001b[1;32mc:\\Users\\rubal\\AppData\\Local\\Programs\\Python\\Python311\\Lib\\site-packages\\sklearn\\utils\\parallel.py:65\u001b[0m, in \u001b[0;36mParallel.__call__\u001b[1;34m(self, iterable)\u001b[0m\n\u001b[0;32m     60\u001b[0m config \u001b[38;5;241m=\u001b[39m get_config()\n\u001b[0;32m     61\u001b[0m iterable_with_config \u001b[38;5;241m=\u001b[39m (\n\u001b[0;32m     62\u001b[0m     (_with_config(delayed_func, config), args, kwargs)\n\u001b[0;32m     63\u001b[0m     \u001b[38;5;28;01mfor\u001b[39;00m delayed_func, args, kwargs \u001b[38;5;129;01min\u001b[39;00m iterable\n\u001b[0;32m     64\u001b[0m )\n\u001b[1;32m---> 65\u001b[0m \u001b[38;5;28;01mreturn\u001b[39;00m \u001b[38;5;28;43msuper\u001b[39;49m\u001b[43m(\u001b[49m\u001b[43m)\u001b[49m\u001b[38;5;241;43m.\u001b[39;49m\u001b[38;5;21;43m__call__\u001b[39;49m\u001b[43m(\u001b[49m\u001b[43miterable_with_config\u001b[49m\u001b[43m)\u001b[49m\n",
      "File \u001b[1;32mc:\\Users\\rubal\\AppData\\Local\\Programs\\Python\\Python311\\Lib\\site-packages\\joblib\\parallel.py:1863\u001b[0m, in \u001b[0;36mParallel.__call__\u001b[1;34m(self, iterable)\u001b[0m\n\u001b[0;32m   1861\u001b[0m     output \u001b[38;5;241m=\u001b[39m \u001b[38;5;28mself\u001b[39m\u001b[38;5;241m.\u001b[39m_get_sequential_output(iterable)\n\u001b[0;32m   1862\u001b[0m     \u001b[38;5;28mnext\u001b[39m(output)\n\u001b[1;32m-> 1863\u001b[0m     \u001b[38;5;28;01mreturn\u001b[39;00m output \u001b[38;5;28;01mif\u001b[39;00m \u001b[38;5;28mself\u001b[39m\u001b[38;5;241m.\u001b[39mreturn_generator \u001b[38;5;28;01melse\u001b[39;00m \u001b[38;5;28mlist\u001b[39m(output)\n\u001b[0;32m   1865\u001b[0m \u001b[38;5;66;03m# Let's create an ID that uniquely identifies the current call. If the\u001b[39;00m\n\u001b[0;32m   1866\u001b[0m \u001b[38;5;66;03m# call is interrupted early and that the same instance is immediately\u001b[39;00m\n\u001b[0;32m   1867\u001b[0m \u001b[38;5;66;03m# re-used, this id will be used to prevent workers that were\u001b[39;00m\n\u001b[0;32m   1868\u001b[0m \u001b[38;5;66;03m# concurrently finalizing a task from the previous call to run the\u001b[39;00m\n\u001b[0;32m   1869\u001b[0m \u001b[38;5;66;03m# callback.\u001b[39;00m\n\u001b[0;32m   1870\u001b[0m \u001b[38;5;28;01mwith\u001b[39;00m \u001b[38;5;28mself\u001b[39m\u001b[38;5;241m.\u001b[39m_lock:\n",
      "File \u001b[1;32mc:\\Users\\rubal\\AppData\\Local\\Programs\\Python\\Python311\\Lib\\site-packages\\joblib\\parallel.py:1792\u001b[0m, in \u001b[0;36mParallel._get_sequential_output\u001b[1;34m(self, iterable)\u001b[0m\n\u001b[0;32m   1790\u001b[0m \u001b[38;5;28mself\u001b[39m\u001b[38;5;241m.\u001b[39mn_dispatched_batches \u001b[38;5;241m+\u001b[39m\u001b[38;5;241m=\u001b[39m \u001b[38;5;241m1\u001b[39m\n\u001b[0;32m   1791\u001b[0m \u001b[38;5;28mself\u001b[39m\u001b[38;5;241m.\u001b[39mn_dispatched_tasks \u001b[38;5;241m+\u001b[39m\u001b[38;5;241m=\u001b[39m \u001b[38;5;241m1\u001b[39m\n\u001b[1;32m-> 1792\u001b[0m res \u001b[38;5;241m=\u001b[39m \u001b[43mfunc\u001b[49m\u001b[43m(\u001b[49m\u001b[38;5;241;43m*\u001b[39;49m\u001b[43margs\u001b[49m\u001b[43m,\u001b[49m\u001b[43m \u001b[49m\u001b[38;5;241;43m*\u001b[39;49m\u001b[38;5;241;43m*\u001b[39;49m\u001b[43mkwargs\u001b[49m\u001b[43m)\u001b[49m\n\u001b[0;32m   1793\u001b[0m \u001b[38;5;28mself\u001b[39m\u001b[38;5;241m.\u001b[39mn_completed_tasks \u001b[38;5;241m+\u001b[39m\u001b[38;5;241m=\u001b[39m \u001b[38;5;241m1\u001b[39m\n\u001b[0;32m   1794\u001b[0m \u001b[38;5;28mself\u001b[39m\u001b[38;5;241m.\u001b[39mprint_progress()\n",
      "File \u001b[1;32mc:\\Users\\rubal\\AppData\\Local\\Programs\\Python\\Python311\\Lib\\site-packages\\sklearn\\utils\\parallel.py:127\u001b[0m, in \u001b[0;36m_FuncWrapper.__call__\u001b[1;34m(self, *args, **kwargs)\u001b[0m\n\u001b[0;32m    125\u001b[0m     config \u001b[38;5;241m=\u001b[39m {}\n\u001b[0;32m    126\u001b[0m \u001b[38;5;28;01mwith\u001b[39;00m config_context(\u001b[38;5;241m*\u001b[39m\u001b[38;5;241m*\u001b[39mconfig):\n\u001b[1;32m--> 127\u001b[0m     \u001b[38;5;28;01mreturn\u001b[39;00m \u001b[38;5;28;43mself\u001b[39;49m\u001b[38;5;241;43m.\u001b[39;49m\u001b[43mfunction\u001b[49m\u001b[43m(\u001b[49m\u001b[38;5;241;43m*\u001b[39;49m\u001b[43margs\u001b[49m\u001b[43m,\u001b[49m\u001b[43m \u001b[49m\u001b[38;5;241;43m*\u001b[39;49m\u001b[38;5;241;43m*\u001b[39;49m\u001b[43mkwargs\u001b[49m\u001b[43m)\u001b[49m\n",
      "File \u001b[1;32mc:\\Users\\rubal\\AppData\\Local\\Programs\\Python\\Python311\\Lib\\site-packages\\sklearn\\model_selection\\_validation.py:717\u001b[0m, in \u001b[0;36m_fit_and_score\u001b[1;34m(estimator, X, y, scorer, train, test, verbose, parameters, fit_params, return_train_score, return_parameters, return_n_test_samples, return_times, return_estimator, split_progress, candidate_progress, error_score)\u001b[0m\n\u001b[0;32m    710\u001b[0m fit_params \u001b[38;5;241m=\u001b[39m _check_fit_params(X, fit_params, train)\n\u001b[0;32m    712\u001b[0m \u001b[38;5;28;01mif\u001b[39;00m parameters \u001b[38;5;129;01mis\u001b[39;00m \u001b[38;5;129;01mnot\u001b[39;00m \u001b[38;5;28;01mNone\u001b[39;00m:\n\u001b[0;32m    713\u001b[0m     \u001b[38;5;66;03m# here we clone the parameters, since sometimes the parameters\u001b[39;00m\n\u001b[0;32m    714\u001b[0m     \u001b[38;5;66;03m# themselves might be estimators, e.g. when we search over different\u001b[39;00m\n\u001b[0;32m    715\u001b[0m     \u001b[38;5;66;03m# estimators in a pipeline.\u001b[39;00m\n\u001b[0;32m    716\u001b[0m     \u001b[38;5;66;03m# ref: https://github.com/scikit-learn/scikit-learn/pull/26786\u001b[39;00m\n\u001b[1;32m--> 717\u001b[0m     estimator \u001b[38;5;241m=\u001b[39m \u001b[43mestimator\u001b[49m\u001b[38;5;241;43m.\u001b[39;49m\u001b[43mset_params\u001b[49m\u001b[43m(\u001b[49m\u001b[38;5;241;43m*\u001b[39;49m\u001b[38;5;241;43m*\u001b[39;49m\u001b[43mclone\u001b[49m\u001b[43m(\u001b[49m\u001b[43mparameters\u001b[49m\u001b[43m,\u001b[49m\u001b[43m \u001b[49m\u001b[43msafe\u001b[49m\u001b[38;5;241;43m=\u001b[39;49m\u001b[38;5;28;43;01mFalse\u001b[39;49;00m\u001b[43m)\u001b[49m\u001b[43m)\u001b[49m\n\u001b[0;32m    719\u001b[0m start_time \u001b[38;5;241m=\u001b[39m time\u001b[38;5;241m.\u001b[39mtime()\n\u001b[0;32m    721\u001b[0m X_train, y_train \u001b[38;5;241m=\u001b[39m _safe_split(estimator, X, y, train)\n",
      "File \u001b[1;32mc:\\Users\\rubal\\AppData\\Local\\Programs\\Python\\Python311\\Lib\\site-packages\\sklearn\\base.py:230\u001b[0m, in \u001b[0;36mBaseEstimator.set_params\u001b[1;34m(self, **params)\u001b[0m\n\u001b[0;32m    228\u001b[0m \u001b[38;5;28;01mif\u001b[39;00m key \u001b[38;5;129;01mnot\u001b[39;00m \u001b[38;5;129;01min\u001b[39;00m valid_params:\n\u001b[0;32m    229\u001b[0m     local_valid_params \u001b[38;5;241m=\u001b[39m \u001b[38;5;28mself\u001b[39m\u001b[38;5;241m.\u001b[39m_get_param_names()\n\u001b[1;32m--> 230\u001b[0m     \u001b[38;5;28;01mraise\u001b[39;00m \u001b[38;5;167;01mValueError\u001b[39;00m(\n\u001b[0;32m    231\u001b[0m         \u001b[38;5;124mf\u001b[39m\u001b[38;5;124m\"\u001b[39m\u001b[38;5;124mInvalid parameter \u001b[39m\u001b[38;5;132;01m{\u001b[39;00mkey\u001b[38;5;132;01m!r}\u001b[39;00m\u001b[38;5;124m for estimator \u001b[39m\u001b[38;5;132;01m{\u001b[39;00m\u001b[38;5;28mself\u001b[39m\u001b[38;5;132;01m}\u001b[39;00m\u001b[38;5;124m. \u001b[39m\u001b[38;5;124m\"\u001b[39m\n\u001b[0;32m    232\u001b[0m         \u001b[38;5;124mf\u001b[39m\u001b[38;5;124m\"\u001b[39m\u001b[38;5;124mValid parameters are: \u001b[39m\u001b[38;5;132;01m{\u001b[39;00mlocal_valid_params\u001b[38;5;132;01m!r}\u001b[39;00m\u001b[38;5;124m.\u001b[39m\u001b[38;5;124m\"\u001b[39m\n\u001b[0;32m    233\u001b[0m     )\n\u001b[0;32m    235\u001b[0m \u001b[38;5;28;01mif\u001b[39;00m delim:\n\u001b[0;32m    236\u001b[0m     nested_params[key][sub_key] \u001b[38;5;241m=\u001b[39m value\n",
      "\u001b[1;31mValueError\u001b[0m: Invalid parameter 'normalize' for estimator Ridge(alpha=0.1). Valid parameters are: ['alpha', 'copy_X', 'fit_intercept', 'max_iter', 'positive', 'random_state', 'solver', 'tol']."
     ]
    }
   ],
   "source": [
    "scores= []\n",
    "cv= ShuffleSplit(n_splits=5, random_state=0, test_size=0.25)\n",
    "\n",
    "for algo_name, config in algo_list.items():\n",
    "    grids= GridSearchCV(config['model'], config['params'], cv= cv, return_train_score= False)\n",
    "    grids.fit(X_train, y_train)\n",
    "\n",
    "    scores.append({\n",
    "        'model': algo_name,\n",
    "        'best_score': grids.best_score_,\n",
    "        'best_params': grids.best_params_\n",
    "    }  \n",
    "    )"
   ]
  },
  {
   "cell_type": "code",
   "execution_count": 92,
   "metadata": {},
   "outputs": [
    {
     "data": {
      "text/plain": [
       "[{'model': 'linear_regression',\n",
       "  'best_score': 0.36722292579155463,\n",
       "  'best_params': {'copy_X': True,\n",
       "   'fit_intercept': True,\n",
       "   'n_jobs': None,\n",
       "   'positive': True}},\n",
       " {'model': 'lasso',\n",
       "  'best_score': 0.36844537236800085,\n",
       "  'best_params': {'alpha': 2, 'selection': 'random'}},\n",
       " {'model': 'decision_tree',\n",
       "  'best_score': 0.36301798679967345,\n",
       "  'best_params': {'criterion': 'friedman_mse', 'splitter': 'random'}},\n",
       " {'model': 'random_forest',\n",
       "  'best_score': 0.6107361028446663,\n",
       "  'best_params': {'max_depth': None,\n",
       "   'min_samples_leaf': 4,\n",
       "   'min_samples_split': 10,\n",
       "   'n_estimators': 200}},\n",
       " {'model': 'gradient_boosting',\n",
       "  'best_score': 0.5676347065295073,\n",
       "  'best_params': {'learning_rate': 0.01, 'max_depth': 3, 'n_estimators': 200}},\n",
       " {'model': 'svm',\n",
       "  'best_score': 0.37479455505077686,\n",
       "  'best_params': {'C': 10, 'epsilon': 0.1, 'kernel': 'rbf'}},\n",
       " {'model': 'knn',\n",
       "  'best_score': 0.6298405712046714,\n",
       "  'best_params': {'n_neighbors': 10, 'p': 2, 'weights': 'distance'}}]"
      ]
     },
     "execution_count": 92,
     "metadata": {},
     "output_type": "execute_result"
    }
   ],
   "source": [
    "scores"
   ]
  },
  {
   "cell_type": "markdown",
   "metadata": {},
   "source": [
    "### KNN model"
   ]
  },
  {
   "cell_type": "code",
   "execution_count": 93,
   "metadata": {},
   "outputs": [
    {
     "data": {
      "text/html": [
       "<style>#sk-container-id-1 {color: black;}#sk-container-id-1 pre{padding: 0;}#sk-container-id-1 div.sk-toggleable {background-color: white;}#sk-container-id-1 label.sk-toggleable__label {cursor: pointer;display: block;width: 100%;margin-bottom: 0;padding: 0.3em;box-sizing: border-box;text-align: center;}#sk-container-id-1 label.sk-toggleable__label-arrow:before {content: \"▸\";float: left;margin-right: 0.25em;color: #696969;}#sk-container-id-1 label.sk-toggleable__label-arrow:hover:before {color: black;}#sk-container-id-1 div.sk-estimator:hover label.sk-toggleable__label-arrow:before {color: black;}#sk-container-id-1 div.sk-toggleable__content {max-height: 0;max-width: 0;overflow: hidden;text-align: left;background-color: #f0f8ff;}#sk-container-id-1 div.sk-toggleable__content pre {margin: 0.2em;color: black;border-radius: 0.25em;background-color: #f0f8ff;}#sk-container-id-1 input.sk-toggleable__control:checked~div.sk-toggleable__content {max-height: 200px;max-width: 100%;overflow: auto;}#sk-container-id-1 input.sk-toggleable__control:checked~label.sk-toggleable__label-arrow:before {content: \"▾\";}#sk-container-id-1 div.sk-estimator input.sk-toggleable__control:checked~label.sk-toggleable__label {background-color: #d4ebff;}#sk-container-id-1 div.sk-label input.sk-toggleable__control:checked~label.sk-toggleable__label {background-color: #d4ebff;}#sk-container-id-1 input.sk-hidden--visually {border: 0;clip: rect(1px 1px 1px 1px);clip: rect(1px, 1px, 1px, 1px);height: 1px;margin: -1px;overflow: hidden;padding: 0;position: absolute;width: 1px;}#sk-container-id-1 div.sk-estimator {font-family: monospace;background-color: #f0f8ff;border: 1px dotted black;border-radius: 0.25em;box-sizing: border-box;margin-bottom: 0.5em;}#sk-container-id-1 div.sk-estimator:hover {background-color: #d4ebff;}#sk-container-id-1 div.sk-parallel-item::after {content: \"\";width: 100%;border-bottom: 1px solid gray;flex-grow: 1;}#sk-container-id-1 div.sk-label:hover label.sk-toggleable__label {background-color: #d4ebff;}#sk-container-id-1 div.sk-serial::before {content: \"\";position: absolute;border-left: 1px solid gray;box-sizing: border-box;top: 0;bottom: 0;left: 50%;z-index: 0;}#sk-container-id-1 div.sk-serial {display: flex;flex-direction: column;align-items: center;background-color: white;padding-right: 0.2em;padding-left: 0.2em;position: relative;}#sk-container-id-1 div.sk-item {position: relative;z-index: 1;}#sk-container-id-1 div.sk-parallel {display: flex;align-items: stretch;justify-content: center;background-color: white;position: relative;}#sk-container-id-1 div.sk-item::before, #sk-container-id-1 div.sk-parallel-item::before {content: \"\";position: absolute;border-left: 1px solid gray;box-sizing: border-box;top: 0;bottom: 0;left: 50%;z-index: -1;}#sk-container-id-1 div.sk-parallel-item {display: flex;flex-direction: column;z-index: 1;position: relative;background-color: white;}#sk-container-id-1 div.sk-parallel-item:first-child::after {align-self: flex-end;width: 50%;}#sk-container-id-1 div.sk-parallel-item:last-child::after {align-self: flex-start;width: 50%;}#sk-container-id-1 div.sk-parallel-item:only-child::after {width: 0;}#sk-container-id-1 div.sk-dashed-wrapped {border: 1px dashed gray;margin: 0 0.4em 0.5em 0.4em;box-sizing: border-box;padding-bottom: 0.4em;background-color: white;}#sk-container-id-1 div.sk-label label {font-family: monospace;font-weight: bold;display: inline-block;line-height: 1.2em;}#sk-container-id-1 div.sk-label-container {text-align: center;}#sk-container-id-1 div.sk-container {/* jupyter's `normalize.less` sets `[hidden] { display: none; }` but bootstrap.min.css set `[hidden] { display: none !important; }` so we also need the `!important` here to be able to override the default hidden behavior on the sphinx rendered scikit-learn.org. See: https://github.com/scikit-learn/scikit-learn/issues/21755 */display: inline-block !important;position: relative;}#sk-container-id-1 div.sk-text-repr-fallback {display: none;}</style><div id=\"sk-container-id-1\" class=\"sk-top-container\"><div class=\"sk-text-repr-fallback\"><pre>KNeighborsRegressor(n_neighbors=10, weights=&#x27;distance&#x27;)</pre><b>In a Jupyter environment, please rerun this cell to show the HTML representation or trust the notebook. <br />On GitHub, the HTML representation is unable to render, please try loading this page with nbviewer.org.</b></div><div class=\"sk-container\" hidden><div class=\"sk-item\"><div class=\"sk-estimator sk-toggleable\"><input class=\"sk-toggleable__control sk-hidden--visually\" id=\"sk-estimator-id-1\" type=\"checkbox\" checked><label for=\"sk-estimator-id-1\" class=\"sk-toggleable__label sk-toggleable__label-arrow\">KNeighborsRegressor</label><div class=\"sk-toggleable__content\"><pre>KNeighborsRegressor(n_neighbors=10, weights=&#x27;distance&#x27;)</pre></div></div></div></div></div>"
      ],
      "text/plain": [
       "KNeighborsRegressor(n_neighbors=10, weights='distance')"
      ]
     },
     "execution_count": 93,
     "metadata": {},
     "output_type": "execute_result"
    }
   ],
   "source": [
    "params = {'n_neighbors': 10, 'p': 2, 'weights': 'distance'}\n",
    "mdl= KNeighborsRegressor()\n",
    "mdl.set_params(**params)"
   ]
  },
  {
   "cell_type": "code",
   "execution_count": 94,
   "metadata": {},
   "outputs": [
    {
     "data": {
      "text/html": [
       "<style>#sk-container-id-2 {color: black;}#sk-container-id-2 pre{padding: 0;}#sk-container-id-2 div.sk-toggleable {background-color: white;}#sk-container-id-2 label.sk-toggleable__label {cursor: pointer;display: block;width: 100%;margin-bottom: 0;padding: 0.3em;box-sizing: border-box;text-align: center;}#sk-container-id-2 label.sk-toggleable__label-arrow:before {content: \"▸\";float: left;margin-right: 0.25em;color: #696969;}#sk-container-id-2 label.sk-toggleable__label-arrow:hover:before {color: black;}#sk-container-id-2 div.sk-estimator:hover label.sk-toggleable__label-arrow:before {color: black;}#sk-container-id-2 div.sk-toggleable__content {max-height: 0;max-width: 0;overflow: hidden;text-align: left;background-color: #f0f8ff;}#sk-container-id-2 div.sk-toggleable__content pre {margin: 0.2em;color: black;border-radius: 0.25em;background-color: #f0f8ff;}#sk-container-id-2 input.sk-toggleable__control:checked~div.sk-toggleable__content {max-height: 200px;max-width: 100%;overflow: auto;}#sk-container-id-2 input.sk-toggleable__control:checked~label.sk-toggleable__label-arrow:before {content: \"▾\";}#sk-container-id-2 div.sk-estimator input.sk-toggleable__control:checked~label.sk-toggleable__label {background-color: #d4ebff;}#sk-container-id-2 div.sk-label input.sk-toggleable__control:checked~label.sk-toggleable__label {background-color: #d4ebff;}#sk-container-id-2 input.sk-hidden--visually {border: 0;clip: rect(1px 1px 1px 1px);clip: rect(1px, 1px, 1px, 1px);height: 1px;margin: -1px;overflow: hidden;padding: 0;position: absolute;width: 1px;}#sk-container-id-2 div.sk-estimator {font-family: monospace;background-color: #f0f8ff;border: 1px dotted black;border-radius: 0.25em;box-sizing: border-box;margin-bottom: 0.5em;}#sk-container-id-2 div.sk-estimator:hover {background-color: #d4ebff;}#sk-container-id-2 div.sk-parallel-item::after {content: \"\";width: 100%;border-bottom: 1px solid gray;flex-grow: 1;}#sk-container-id-2 div.sk-label:hover label.sk-toggleable__label {background-color: #d4ebff;}#sk-container-id-2 div.sk-serial::before {content: \"\";position: absolute;border-left: 1px solid gray;box-sizing: border-box;top: 0;bottom: 0;left: 50%;z-index: 0;}#sk-container-id-2 div.sk-serial {display: flex;flex-direction: column;align-items: center;background-color: white;padding-right: 0.2em;padding-left: 0.2em;position: relative;}#sk-container-id-2 div.sk-item {position: relative;z-index: 1;}#sk-container-id-2 div.sk-parallel {display: flex;align-items: stretch;justify-content: center;background-color: white;position: relative;}#sk-container-id-2 div.sk-item::before, #sk-container-id-2 div.sk-parallel-item::before {content: \"\";position: absolute;border-left: 1px solid gray;box-sizing: border-box;top: 0;bottom: 0;left: 50%;z-index: -1;}#sk-container-id-2 div.sk-parallel-item {display: flex;flex-direction: column;z-index: 1;position: relative;background-color: white;}#sk-container-id-2 div.sk-parallel-item:first-child::after {align-self: flex-end;width: 50%;}#sk-container-id-2 div.sk-parallel-item:last-child::after {align-self: flex-start;width: 50%;}#sk-container-id-2 div.sk-parallel-item:only-child::after {width: 0;}#sk-container-id-2 div.sk-dashed-wrapped {border: 1px dashed gray;margin: 0 0.4em 0.5em 0.4em;box-sizing: border-box;padding-bottom: 0.4em;background-color: white;}#sk-container-id-2 div.sk-label label {font-family: monospace;font-weight: bold;display: inline-block;line-height: 1.2em;}#sk-container-id-2 div.sk-label-container {text-align: center;}#sk-container-id-2 div.sk-container {/* jupyter's `normalize.less` sets `[hidden] { display: none; }` but bootstrap.min.css set `[hidden] { display: none !important; }` so we also need the `!important` here to be able to override the default hidden behavior on the sphinx rendered scikit-learn.org. See: https://github.com/scikit-learn/scikit-learn/issues/21755 */display: inline-block !important;position: relative;}#sk-container-id-2 div.sk-text-repr-fallback {display: none;}</style><div id=\"sk-container-id-2\" class=\"sk-top-container\"><div class=\"sk-text-repr-fallback\"><pre>KNeighborsRegressor(n_neighbors=10, weights=&#x27;distance&#x27;)</pre><b>In a Jupyter environment, please rerun this cell to show the HTML representation or trust the notebook. <br />On GitHub, the HTML representation is unable to render, please try loading this page with nbviewer.org.</b></div><div class=\"sk-container\" hidden><div class=\"sk-item\"><div class=\"sk-estimator sk-toggleable\"><input class=\"sk-toggleable__control sk-hidden--visually\" id=\"sk-estimator-id-2\" type=\"checkbox\" checked><label for=\"sk-estimator-id-2\" class=\"sk-toggleable__label sk-toggleable__label-arrow\">KNeighborsRegressor</label><div class=\"sk-toggleable__content\"><pre>KNeighborsRegressor(n_neighbors=10, weights=&#x27;distance&#x27;)</pre></div></div></div></div></div>"
      ],
      "text/plain": [
       "KNeighborsRegressor(n_neighbors=10, weights='distance')"
      ]
     },
     "execution_count": 94,
     "metadata": {},
     "output_type": "execute_result"
    }
   ],
   "source": [
    "mdl.fit(X_train, y_train)"
   ]
  },
  {
   "cell_type": "code",
   "execution_count": 96,
   "metadata": {},
   "outputs": [],
   "source": [
    "with open('regression_model', 'wb') as file:\n",
    "    pickle.dump(mdl, file)"
   ]
  }
 ],
 "metadata": {
  "kernelspec": {
   "display_name": "Python 3",
   "language": "python",
   "name": "python3"
  },
  "language_info": {
   "codemirror_mode": {
    "name": "ipython",
    "version": 3
   },
   "file_extension": ".py",
   "mimetype": "text/x-python",
   "name": "python",
   "nbconvert_exporter": "python",
   "pygments_lexer": "ipython3",
   "version": "3.11.2"
  }
 },
 "nbformat": 4,
 "nbformat_minor": 2
}
