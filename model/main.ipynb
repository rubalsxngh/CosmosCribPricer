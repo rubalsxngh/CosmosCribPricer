{
 "cells": [
  {
   "cell_type": "code",
   "execution_count": 61,
   "metadata": {},
   "outputs": [],
   "source": [
    "import numpy as np\n",
    "import pandas as pd\n",
    "%matplotlib inline\n",
    "import matplotlib\n",
    "matplotlib.rcParams[\"figure.figsize\"]= (20, 10)"
   ]
  },
  {
   "cell_type": "code",
   "execution_count": 62,
   "metadata": {},
   "outputs": [],
   "source": [
    "from sklearn.preprocessing import LabelEncoder"
   ]
  },
  {
   "cell_type": "code",
   "execution_count": 63,
   "metadata": {},
   "outputs": [],
   "source": [
    "df= pd.read_csv('bengaluru_house_prices.csv')"
   ]
  },
  {
   "cell_type": "code",
   "execution_count": 64,
   "metadata": {},
   "outputs": [
    {
     "data": {
      "text/html": [
       "<div>\n",
       "<style scoped>\n",
       "    .dataframe tbody tr th:only-of-type {\n",
       "        vertical-align: middle;\n",
       "    }\n",
       "\n",
       "    .dataframe tbody tr th {\n",
       "        vertical-align: top;\n",
       "    }\n",
       "\n",
       "    .dataframe thead th {\n",
       "        text-align: right;\n",
       "    }\n",
       "</style>\n",
       "<table border=\"1\" class=\"dataframe\">\n",
       "  <thead>\n",
       "    <tr style=\"text-align: right;\">\n",
       "      <th></th>\n",
       "      <th>area_type</th>\n",
       "      <th>availability</th>\n",
       "      <th>location</th>\n",
       "      <th>size</th>\n",
       "      <th>society</th>\n",
       "      <th>total_sqft</th>\n",
       "      <th>bath</th>\n",
       "      <th>balcony</th>\n",
       "      <th>price</th>\n",
       "    </tr>\n",
       "  </thead>\n",
       "  <tbody>\n",
       "    <tr>\n",
       "      <th>0</th>\n",
       "      <td>Super built-up  Area</td>\n",
       "      <td>19-Dec</td>\n",
       "      <td>Electronic City Phase II</td>\n",
       "      <td>2 BHK</td>\n",
       "      <td>Coomee</td>\n",
       "      <td>1056</td>\n",
       "      <td>2.0</td>\n",
       "      <td>1.0</td>\n",
       "      <td>39.07</td>\n",
       "    </tr>\n",
       "    <tr>\n",
       "      <th>1</th>\n",
       "      <td>Plot  Area</td>\n",
       "      <td>Ready To Move</td>\n",
       "      <td>Chikka Tirupathi</td>\n",
       "      <td>4 Bedroom</td>\n",
       "      <td>Theanmp</td>\n",
       "      <td>2600</td>\n",
       "      <td>5.0</td>\n",
       "      <td>3.0</td>\n",
       "      <td>120.00</td>\n",
       "    </tr>\n",
       "    <tr>\n",
       "      <th>2</th>\n",
       "      <td>Built-up  Area</td>\n",
       "      <td>Ready To Move</td>\n",
       "      <td>Uttarahalli</td>\n",
       "      <td>3 BHK</td>\n",
       "      <td>NaN</td>\n",
       "      <td>1440</td>\n",
       "      <td>2.0</td>\n",
       "      <td>3.0</td>\n",
       "      <td>62.00</td>\n",
       "    </tr>\n",
       "    <tr>\n",
       "      <th>3</th>\n",
       "      <td>Super built-up  Area</td>\n",
       "      <td>Ready To Move</td>\n",
       "      <td>Lingadheeranahalli</td>\n",
       "      <td>3 BHK</td>\n",
       "      <td>Soiewre</td>\n",
       "      <td>1521</td>\n",
       "      <td>3.0</td>\n",
       "      <td>1.0</td>\n",
       "      <td>95.00</td>\n",
       "    </tr>\n",
       "    <tr>\n",
       "      <th>4</th>\n",
       "      <td>Super built-up  Area</td>\n",
       "      <td>Ready To Move</td>\n",
       "      <td>Kothanur</td>\n",
       "      <td>2 BHK</td>\n",
       "      <td>NaN</td>\n",
       "      <td>1200</td>\n",
       "      <td>2.0</td>\n",
       "      <td>1.0</td>\n",
       "      <td>51.00</td>\n",
       "    </tr>\n",
       "  </tbody>\n",
       "</table>\n",
       "</div>"
      ],
      "text/plain": [
       "              area_type   availability                  location       size  \\\n",
       "0  Super built-up  Area         19-Dec  Electronic City Phase II      2 BHK   \n",
       "1            Plot  Area  Ready To Move          Chikka Tirupathi  4 Bedroom   \n",
       "2        Built-up  Area  Ready To Move               Uttarahalli      3 BHK   \n",
       "3  Super built-up  Area  Ready To Move        Lingadheeranahalli      3 BHK   \n",
       "4  Super built-up  Area  Ready To Move                  Kothanur      2 BHK   \n",
       "\n",
       "   society total_sqft  bath  balcony   price  \n",
       "0  Coomee        1056   2.0      1.0   39.07  \n",
       "1  Theanmp       2600   5.0      3.0  120.00  \n",
       "2      NaN       1440   2.0      3.0   62.00  \n",
       "3  Soiewre       1521   3.0      1.0   95.00  \n",
       "4      NaN       1200   2.0      1.0   51.00  "
      ]
     },
     "execution_count": 64,
     "metadata": {},
     "output_type": "execute_result"
    }
   ],
   "source": [
    "df.head()"
   ]
  },
  {
   "cell_type": "markdown",
   "metadata": {},
   "source": [
    "##### Data Preprocessing"
   ]
  },
  {
   "cell_type": "code",
   "execution_count": 65,
   "metadata": {},
   "outputs": [],
   "source": [
    "cols_to_drop= ['society', 'availability']\n",
    "\n",
    "for col in cols_to_drop:\n",
    "    if col in df.columns:\n",
    "        df.drop(col, axis= 'columns', inplace= True)"
   ]
  },
  {
   "cell_type": "code",
   "execution_count": 66,
   "metadata": {},
   "outputs": [
    {
     "data": {
      "text/html": [
       "<div>\n",
       "<style scoped>\n",
       "    .dataframe tbody tr th:only-of-type {\n",
       "        vertical-align: middle;\n",
       "    }\n",
       "\n",
       "    .dataframe tbody tr th {\n",
       "        vertical-align: top;\n",
       "    }\n",
       "\n",
       "    .dataframe thead th {\n",
       "        text-align: right;\n",
       "    }\n",
       "</style>\n",
       "<table border=\"1\" class=\"dataframe\">\n",
       "  <thead>\n",
       "    <tr style=\"text-align: right;\">\n",
       "      <th></th>\n",
       "      <th>area_type</th>\n",
       "      <th>location</th>\n",
       "      <th>size</th>\n",
       "      <th>total_sqft</th>\n",
       "      <th>bath</th>\n",
       "      <th>balcony</th>\n",
       "      <th>price</th>\n",
       "    </tr>\n",
       "  </thead>\n",
       "  <tbody>\n",
       "    <tr>\n",
       "      <th>0</th>\n",
       "      <td>Super built-up  Area</td>\n",
       "      <td>Electronic City Phase II</td>\n",
       "      <td>2 BHK</td>\n",
       "      <td>1056</td>\n",
       "      <td>2.0</td>\n",
       "      <td>1.0</td>\n",
       "      <td>39.07</td>\n",
       "    </tr>\n",
       "    <tr>\n",
       "      <th>1</th>\n",
       "      <td>Plot  Area</td>\n",
       "      <td>Chikka Tirupathi</td>\n",
       "      <td>4 Bedroom</td>\n",
       "      <td>2600</td>\n",
       "      <td>5.0</td>\n",
       "      <td>3.0</td>\n",
       "      <td>120.00</td>\n",
       "    </tr>\n",
       "    <tr>\n",
       "      <th>2</th>\n",
       "      <td>Built-up  Area</td>\n",
       "      <td>Uttarahalli</td>\n",
       "      <td>3 BHK</td>\n",
       "      <td>1440</td>\n",
       "      <td>2.0</td>\n",
       "      <td>3.0</td>\n",
       "      <td>62.00</td>\n",
       "    </tr>\n",
       "    <tr>\n",
       "      <th>3</th>\n",
       "      <td>Super built-up  Area</td>\n",
       "      <td>Lingadheeranahalli</td>\n",
       "      <td>3 BHK</td>\n",
       "      <td>1521</td>\n",
       "      <td>3.0</td>\n",
       "      <td>1.0</td>\n",
       "      <td>95.00</td>\n",
       "    </tr>\n",
       "    <tr>\n",
       "      <th>4</th>\n",
       "      <td>Super built-up  Area</td>\n",
       "      <td>Kothanur</td>\n",
       "      <td>2 BHK</td>\n",
       "      <td>1200</td>\n",
       "      <td>2.0</td>\n",
       "      <td>1.0</td>\n",
       "      <td>51.00</td>\n",
       "    </tr>\n",
       "  </tbody>\n",
       "</table>\n",
       "</div>"
      ],
      "text/plain": [
       "              area_type                  location       size total_sqft  bath  \\\n",
       "0  Super built-up  Area  Electronic City Phase II      2 BHK       1056   2.0   \n",
       "1            Plot  Area          Chikka Tirupathi  4 Bedroom       2600   5.0   \n",
       "2        Built-up  Area               Uttarahalli      3 BHK       1440   2.0   \n",
       "3  Super built-up  Area        Lingadheeranahalli      3 BHK       1521   3.0   \n",
       "4  Super built-up  Area                  Kothanur      2 BHK       1200   2.0   \n",
       "\n",
       "   balcony   price  \n",
       "0      1.0   39.07  \n",
       "1      3.0  120.00  \n",
       "2      3.0   62.00  \n",
       "3      1.0   95.00  \n",
       "4      1.0   51.00  "
      ]
     },
     "execution_count": 66,
     "metadata": {},
     "output_type": "execute_result"
    }
   ],
   "source": [
    "df.head()"
   ]
  },
  {
   "cell_type": "code",
   "execution_count": 67,
   "metadata": {},
   "outputs": [
    {
     "name": "stdout",
     "output_type": "stream",
     "text": [
      "<class 'pandas.core.frame.DataFrame'>\n",
      "RangeIndex: 13320 entries, 0 to 13319\n",
      "Data columns (total 7 columns):\n",
      " #   Column      Non-Null Count  Dtype  \n",
      "---  ------      --------------  -----  \n",
      " 0   area_type   13320 non-null  object \n",
      " 1   location    13319 non-null  object \n",
      " 2   size        13304 non-null  object \n",
      " 3   total_sqft  13320 non-null  object \n",
      " 4   bath        13247 non-null  float64\n",
      " 5   balcony     12711 non-null  float64\n",
      " 6   price       13320 non-null  float64\n",
      "dtypes: float64(3), object(4)\n",
      "memory usage: 728.6+ KB\n"
     ]
    }
   ],
   "source": [
    "df.info()"
   ]
  },
  {
   "cell_type": "code",
   "execution_count": 68,
   "metadata": {},
   "outputs": [],
   "source": [
    "df= df.dropna()"
   ]
  },
  {
   "cell_type": "code",
   "execution_count": 69,
   "metadata": {},
   "outputs": [],
   "source": [
    "df['bhk']= df['size'].apply(lambda x: int(x[0]))"
   ]
  },
  {
   "cell_type": "code",
   "execution_count": 70,
   "metadata": {},
   "outputs": [],
   "source": [
    "df.drop(['size'], axis= 'columns', inplace= True)"
   ]
  },
  {
   "cell_type": "code",
   "execution_count": 71,
   "metadata": {},
   "outputs": [
    {
     "data": {
      "text/plain": [
       "array(['Electronic City Phase II', 'Chikka Tirupathi', 'Uttarahalli', ...,\n",
       "       '12th cross srinivas nagar banshankari 3rd stage',\n",
       "       'Havanur extension', 'Abshot Layout'], dtype=object)"
      ]
     },
     "execution_count": 71,
     "metadata": {},
     "output_type": "execute_result"
    }
   ],
   "source": [
    "df['location'].unique()"
   ]
  },
  {
   "cell_type": "code",
   "execution_count": 72,
   "metadata": {},
   "outputs": [
    {
     "name": "stdout",
     "output_type": "stream",
     "text": [
      "<class 'pandas.core.frame.DataFrame'>\n",
      "Index: 12710 entries, 0 to 13319\n",
      "Data columns (total 7 columns):\n",
      " #   Column      Non-Null Count  Dtype  \n",
      "---  ------      --------------  -----  \n",
      " 0   area_type   12710 non-null  object \n",
      " 1   location    12710 non-null  object \n",
      " 2   total_sqft  12710 non-null  object \n",
      " 3   bath        12710 non-null  float64\n",
      " 4   balcony     12710 non-null  float64\n",
      " 5   price       12710 non-null  float64\n",
      " 6   bhk         12710 non-null  int64  \n",
      "dtypes: float64(3), int64(1), object(3)\n",
      "memory usage: 794.4+ KB\n"
     ]
    }
   ],
   "source": [
    "df.info()"
   ]
  },
  {
   "cell_type": "code",
   "execution_count": 73,
   "metadata": {},
   "outputs": [],
   "source": [
    "def handle_ranges(x):\n",
    "    tokens = x.split('-')\n",
    "\n",
    "    if len(tokens) == 2:\n",
    "        try:\n",
    "            return (float(tokens[0]) + float(tokens[1])) / 2.0\n",
    "        except ValueError:\n",
    "            return None  # Handle the case where conversion to float fails\n",
    "    else:\n",
    "        x = x.strip()  # Remove leading and trailing whitespaces\n",
    "        try:\n",
    "            return float(x)\n",
    "        except ValueError:\n",
    "            return None\n",
    "\n",
    "# Apply the function to the 'total_sqft' column\n",
    "df['total_sqft'] = df['total_sqft'].apply(handle_ranges)"
   ]
  },
  {
   "cell_type": "code",
   "execution_count": 74,
   "metadata": {},
   "outputs": [
    {
     "name": "stdout",
     "output_type": "stream",
     "text": [
      "<class 'pandas.core.frame.DataFrame'>\n",
      "Index: 12710 entries, 0 to 13319\n",
      "Data columns (total 7 columns):\n",
      " #   Column      Non-Null Count  Dtype  \n",
      "---  ------      --------------  -----  \n",
      " 0   area_type   12710 non-null  object \n",
      " 1   location    12710 non-null  object \n",
      " 2   total_sqft  12668 non-null  float64\n",
      " 3   bath        12710 non-null  float64\n",
      " 4   balcony     12710 non-null  float64\n",
      " 5   price       12710 non-null  float64\n",
      " 6   bhk         12710 non-null  int64  \n",
      "dtypes: float64(4), int64(1), object(2)\n",
      "memory usage: 794.4+ KB\n"
     ]
    }
   ],
   "source": [
    "df.info()"
   ]
  },
  {
   "cell_type": "code",
   "execution_count": 75,
   "metadata": {},
   "outputs": [],
   "source": [
    "df= df.dropna()"
   ]
  },
  {
   "cell_type": "markdown",
   "metadata": {},
   "source": [
    "##### Feature Engineering"
   ]
  },
  {
   "cell_type": "code",
   "execution_count": 76,
   "metadata": {},
   "outputs": [],
   "source": [
    "df['price_per_sqft']= (df['price']*100000)/df['total_sqft']"
   ]
  },
  {
   "cell_type": "code",
   "execution_count": 77,
   "metadata": {},
   "outputs": [],
   "source": [
    "df['location']= df['location'].apply(lambda x: x.strip())"
   ]
  },
  {
   "cell_type": "code",
   "execution_count": 78,
   "metadata": {},
   "outputs": [],
   "source": [
    "location_stats= df.groupby('location')['location'].agg('count').sort_values(ascending= False)"
   ]
  },
  {
   "cell_type": "code",
   "execution_count": 79,
   "metadata": {},
   "outputs": [
    {
     "data": {
      "text/plain": [
       "location\n",
       "Nagappa Reddy Layout    10\n",
       "Thyagaraja Nagar        10\n",
       "Ganga Nagar             10\n",
       "Naganathapura           10\n",
       "Dairy Circle            10\n",
       "                        ..\n",
       "1 Giri Nagar             1\n",
       "Kanakapura  Rod          1\n",
       "Kanakapura Main Road     1\n",
       "Kanakapura Road          1\n",
       "whitefiled               1\n",
       "Name: location, Length: 1013, dtype: int64"
      ]
     },
     "execution_count": 79,
     "metadata": {},
     "output_type": "execute_result"
    }
   ],
   "source": [
    "location_less_than_10=  location_stats[location_stats<= 10]\n",
    "location_less_than_10"
   ]
  },
  {
   "cell_type": "code",
   "execution_count": 80,
   "metadata": {},
   "outputs": [],
   "source": [
    "df['location']= df['location'].apply(lambda x: 'other' if x in location_less_than_10 else x)"
   ]
  },
  {
   "cell_type": "code",
   "execution_count": 81,
   "metadata": {},
   "outputs": [
    {
     "data": {
      "text/html": [
       "<div>\n",
       "<style scoped>\n",
       "    .dataframe tbody tr th:only-of-type {\n",
       "        vertical-align: middle;\n",
       "    }\n",
       "\n",
       "    .dataframe tbody tr th {\n",
       "        vertical-align: top;\n",
       "    }\n",
       "\n",
       "    .dataframe thead th {\n",
       "        text-align: right;\n",
       "    }\n",
       "</style>\n",
       "<table border=\"1\" class=\"dataframe\">\n",
       "  <thead>\n",
       "    <tr style=\"text-align: right;\">\n",
       "      <th></th>\n",
       "      <th>area_type</th>\n",
       "      <th>location</th>\n",
       "      <th>total_sqft</th>\n",
       "      <th>bath</th>\n",
       "      <th>balcony</th>\n",
       "      <th>price</th>\n",
       "      <th>bhk</th>\n",
       "      <th>price_per_sqft</th>\n",
       "    </tr>\n",
       "  </thead>\n",
       "  <tbody>\n",
       "    <tr>\n",
       "      <th>0</th>\n",
       "      <td>Super built-up  Area</td>\n",
       "      <td>Electronic City Phase II</td>\n",
       "      <td>1056.0</td>\n",
       "      <td>2.0</td>\n",
       "      <td>1.0</td>\n",
       "      <td>39.07</td>\n",
       "      <td>2</td>\n",
       "      <td>3699.810606</td>\n",
       "    </tr>\n",
       "    <tr>\n",
       "      <th>1</th>\n",
       "      <td>Plot  Area</td>\n",
       "      <td>Chikka Tirupathi</td>\n",
       "      <td>2600.0</td>\n",
       "      <td>5.0</td>\n",
       "      <td>3.0</td>\n",
       "      <td>120.00</td>\n",
       "      <td>4</td>\n",
       "      <td>4615.384615</td>\n",
       "    </tr>\n",
       "    <tr>\n",
       "      <th>2</th>\n",
       "      <td>Built-up  Area</td>\n",
       "      <td>Uttarahalli</td>\n",
       "      <td>1440.0</td>\n",
       "      <td>2.0</td>\n",
       "      <td>3.0</td>\n",
       "      <td>62.00</td>\n",
       "      <td>3</td>\n",
       "      <td>4305.555556</td>\n",
       "    </tr>\n",
       "    <tr>\n",
       "      <th>3</th>\n",
       "      <td>Super built-up  Area</td>\n",
       "      <td>Lingadheeranahalli</td>\n",
       "      <td>1521.0</td>\n",
       "      <td>3.0</td>\n",
       "      <td>1.0</td>\n",
       "      <td>95.00</td>\n",
       "      <td>3</td>\n",
       "      <td>6245.890861</td>\n",
       "    </tr>\n",
       "    <tr>\n",
       "      <th>4</th>\n",
       "      <td>Super built-up  Area</td>\n",
       "      <td>Kothanur</td>\n",
       "      <td>1200.0</td>\n",
       "      <td>2.0</td>\n",
       "      <td>1.0</td>\n",
       "      <td>51.00</td>\n",
       "      <td>2</td>\n",
       "      <td>4250.000000</td>\n",
       "    </tr>\n",
       "  </tbody>\n",
       "</table>\n",
       "</div>"
      ],
      "text/plain": [
       "              area_type                  location  total_sqft  bath  balcony  \\\n",
       "0  Super built-up  Area  Electronic City Phase II      1056.0   2.0      1.0   \n",
       "1            Plot  Area          Chikka Tirupathi      2600.0   5.0      3.0   \n",
       "2        Built-up  Area               Uttarahalli      1440.0   2.0      3.0   \n",
       "3  Super built-up  Area        Lingadheeranahalli      1521.0   3.0      1.0   \n",
       "4  Super built-up  Area                  Kothanur      1200.0   2.0      1.0   \n",
       "\n",
       "    price  bhk  price_per_sqft  \n",
       "0   39.07    2     3699.810606  \n",
       "1  120.00    4     4615.384615  \n",
       "2   62.00    3     4305.555556  \n",
       "3   95.00    3     6245.890861  \n",
       "4   51.00    2     4250.000000  "
      ]
     },
     "execution_count": 81,
     "metadata": {},
     "output_type": "execute_result"
    }
   ],
   "source": [
    "df.head()"
   ]
  },
  {
   "cell_type": "markdown",
   "metadata": {},
   "source": [
    "##### Outlier removal"
   ]
  },
  {
   "cell_type": "code",
   "execution_count": 82,
   "metadata": {},
   "outputs": [],
   "source": [
    "df= df[(df['total_sqft']/df['bhk'])>300]"
   ]
  },
  {
   "cell_type": "code",
   "execution_count": 83,
   "metadata": {},
   "outputs": [],
   "source": [
    "df.drop(['price_per_sqft'], axis= 'columns', inplace= True)"
   ]
  },
  {
   "cell_type": "code",
   "execution_count": 84,
   "metadata": {},
   "outputs": [],
   "source": [
    "object_columns = df.select_dtypes(include='object').columns"
   ]
  },
  {
   "cell_type": "code",
   "execution_count": 85,
   "metadata": {},
   "outputs": [
    {
     "data": {
      "text/plain": [
       "Index(['area_type', 'location'], dtype='object')"
      ]
     },
     "execution_count": 85,
     "metadata": {},
     "output_type": "execute_result"
    }
   ],
   "source": [
    "object_columns"
   ]
  },
  {
   "cell_type": "code",
   "execution_count": 86,
   "metadata": {},
   "outputs": [],
   "source": [
    "label_mappings= {}\n",
    "for col in object_columns:\n",
    "    le= LabelEncoder()\n",
    "\n",
    "    df[col+'_le']= le.fit_transform(df[col])\n",
    "\n",
    "    label_mappings[col]= dict(zip(le.classes_, le.transform(le.classes_)))\n",
    "    df.drop(col, axis= 'columns', inplace= True)"
   ]
  },
  {
   "cell_type": "code",
   "execution_count": 87,
   "metadata": {},
   "outputs": [
    {
     "data": {
      "text/plain": [
       "{'area_type': {'Built-up  Area': 0,\n",
       "  'Carpet  Area': 1,\n",
       "  'Plot  Area': 2,\n",
       "  'Super built-up  Area': 3},\n",
       " 'location': {'1st Block Jayanagar': 0,\n",
       "  '1st Phase JP Nagar': 1,\n",
       "  '2nd Phase Judicial Layout': 2,\n",
       "  '2nd Stage Nagarbhavi': 3,\n",
       "  '5th Phase JP Nagar': 4,\n",
       "  '6th Phase JP Nagar': 5,\n",
       "  '7th Phase JP Nagar': 6,\n",
       "  '8th Phase JP Nagar': 7,\n",
       "  '9th Phase JP Nagar': 8,\n",
       "  'AECS Layout': 9,\n",
       "  'Abbigere': 10,\n",
       "  'Akshaya Nagar': 11,\n",
       "  'Ambalipura': 12,\n",
       "  'Ambedkar Nagar': 13,\n",
       "  'Amruthahalli': 14,\n",
       "  'Anandapura': 15,\n",
       "  'Ananth Nagar': 16,\n",
       "  'Anekal': 17,\n",
       "  'Anjanapura': 18,\n",
       "  'Ardendale': 19,\n",
       "  'Arekere': 20,\n",
       "  'Attibele': 21,\n",
       "  'BEML Layout': 22,\n",
       "  'BTM 2nd Stage': 23,\n",
       "  'BTM Layout': 24,\n",
       "  'Babusapalaya': 25,\n",
       "  'Badavala Nagar': 26,\n",
       "  'Balagere': 27,\n",
       "  'Banashankari': 28,\n",
       "  'Banashankari Stage II': 29,\n",
       "  'Banashankari Stage III': 30,\n",
       "  'Banashankari Stage V': 31,\n",
       "  'Banashankari Stage VI': 32,\n",
       "  'Banaswadi': 33,\n",
       "  'Banjara Layout': 34,\n",
       "  'Bannerghatta': 35,\n",
       "  'Bannerghatta Road': 36,\n",
       "  'Basavangudi': 37,\n",
       "  'Basaveshwara Nagar': 38,\n",
       "  'Battarahalli': 39,\n",
       "  'Begur': 40,\n",
       "  'Begur Road': 41,\n",
       "  'Bellandur': 42,\n",
       "  'Benson Town': 43,\n",
       "  'Bharathi Nagar': 44,\n",
       "  'Bhoganhalli': 45,\n",
       "  'Billekahalli': 46,\n",
       "  'Binny Pete': 47,\n",
       "  'Bisuvanahalli': 48,\n",
       "  'Bommanahalli': 49,\n",
       "  'Bommasandra': 50,\n",
       "  'Bommasandra Industrial Area': 51,\n",
       "  'Bommenahalli': 52,\n",
       "  'Brookefield': 53,\n",
       "  'Budigere': 54,\n",
       "  'CV Raman Nagar': 55,\n",
       "  'Chamrajpet': 56,\n",
       "  'Chandapura': 57,\n",
       "  'Channasandra': 58,\n",
       "  'Chikka Tirupathi': 59,\n",
       "  'Chikkabanavar': 60,\n",
       "  'Chikkalasandra': 61,\n",
       "  'Choodasandra': 62,\n",
       "  'Cooke Town': 63,\n",
       "  'Cox Town': 64,\n",
       "  'Cunningham Road': 65,\n",
       "  'Dasanapura': 66,\n",
       "  'Dasarahalli': 67,\n",
       "  'Devanahalli': 68,\n",
       "  'Devarachikkanahalli': 69,\n",
       "  'Dodda Nekkundi': 70,\n",
       "  'Doddakallasandra': 71,\n",
       "  'Doddathoguru': 72,\n",
       "  'Domlur': 73,\n",
       "  'Dommasandra': 74,\n",
       "  'EPIP Zone': 75,\n",
       "  'Electronic City': 76,\n",
       "  'Electronic City Phase II': 77,\n",
       "  'Electronics City Phase 1': 78,\n",
       "  'Frazer Town': 79,\n",
       "  'GM Palaya': 80,\n",
       "  'Garudachar Palya': 81,\n",
       "  'Giri Nagar': 82,\n",
       "  'Gollarapalya Hosahalli': 83,\n",
       "  'Gottigere': 84,\n",
       "  'Green Glen Layout': 85,\n",
       "  'Gubbalala': 86,\n",
       "  'Gunjur': 87,\n",
       "  'HBR Layout': 88,\n",
       "  'HRBR Layout': 89,\n",
       "  'HSR Layout': 90,\n",
       "  'Haralur Road': 91,\n",
       "  'Harlur': 92,\n",
       "  'Hebbal': 93,\n",
       "  'Hebbal Kempapura': 94,\n",
       "  'Hegde Nagar': 95,\n",
       "  'Hennur': 96,\n",
       "  'Hennur Road': 97,\n",
       "  'Hoodi': 98,\n",
       "  'Horamavu Agara': 99,\n",
       "  'Horamavu Banaswadi': 100,\n",
       "  'Hormavu': 101,\n",
       "  'Hosa Road': 102,\n",
       "  'Hosakerehalli': 103,\n",
       "  'Hoskote': 104,\n",
       "  'Hosur Road': 105,\n",
       "  'Hulimavu': 106,\n",
       "  'ISRO Layout': 107,\n",
       "  'ITPL': 108,\n",
       "  'Iblur Village': 109,\n",
       "  'Indira Nagar': 110,\n",
       "  'JP Nagar': 111,\n",
       "  'Jakkur': 112,\n",
       "  'Jalahalli': 113,\n",
       "  'Jalahalli East': 114,\n",
       "  'Jigani': 115,\n",
       "  'Judicial Layout': 116,\n",
       "  'KR Puram': 117,\n",
       "  'Kadubeesanahalli': 118,\n",
       "  'Kadugodi': 119,\n",
       "  'Kaggadasapura': 120,\n",
       "  'Kaggalipura': 121,\n",
       "  'Kaikondrahalli': 122,\n",
       "  'Kalena Agrahara': 123,\n",
       "  'Kalyan nagar': 124,\n",
       "  'Kambipura': 125,\n",
       "  'Kammanahalli': 126,\n",
       "  'Kammasandra': 127,\n",
       "  'Kanakapura': 128,\n",
       "  'Kanakpura Road': 129,\n",
       "  'Kannamangala': 130,\n",
       "  'Karuna Nagar': 131,\n",
       "  'Kasavanhalli': 132,\n",
       "  'Kasturi Nagar': 133,\n",
       "  'Kathriguppe': 134,\n",
       "  'Kaval Byrasandra': 135,\n",
       "  'Kenchenahalli': 136,\n",
       "  'Kengeri': 137,\n",
       "  'Kengeri Satellite Town': 138,\n",
       "  'Kereguddadahalli': 139,\n",
       "  'Kodichikkanahalli': 140,\n",
       "  'Kodigehaali': 141,\n",
       "  'Kodihalli': 142,\n",
       "  'Kogilu': 143,\n",
       "  'Konanakunte': 144,\n",
       "  'Koramangala': 145,\n",
       "  'Kothannur': 146,\n",
       "  'Kothanur': 147,\n",
       "  'Kudlu': 148,\n",
       "  'Kudlu Gate': 149,\n",
       "  'Kumaraswami Layout': 150,\n",
       "  'Kundalahalli': 151,\n",
       "  'LB Shastri Nagar': 152,\n",
       "  'Laggere': 153,\n",
       "  'Lakshminarayana Pura': 154,\n",
       "  'Lingadheeranahalli': 155,\n",
       "  'Magadi Road': 156,\n",
       "  'Mahadevpura': 157,\n",
       "  'Mahalakshmi Layout': 158,\n",
       "  'Mallasandra': 159,\n",
       "  'Malleshpalya': 160,\n",
       "  'Malleshwaram': 161,\n",
       "  'Marathahalli': 162,\n",
       "  'Margondanahalli': 163,\n",
       "  'Marsur': 164,\n",
       "  'Mico Layout': 165,\n",
       "  'Munnekollal': 166,\n",
       "  'Murugeshpalya': 167,\n",
       "  'Mysore Road': 168,\n",
       "  'NGR Layout': 169,\n",
       "  'NRI Layout': 170,\n",
       "  'Nagarbhavi': 171,\n",
       "  'Nagasandra': 172,\n",
       "  'Nagavara': 173,\n",
       "  'Nagavarapalya': 174,\n",
       "  'Narayanapura': 175,\n",
       "  'Neeladri Nagar': 176,\n",
       "  'OMBR Layout': 177,\n",
       "  'Old Airport Road': 178,\n",
       "  'Old Madras Road': 179,\n",
       "  'Padmanabhanagar': 180,\n",
       "  'Pai Layout': 181,\n",
       "  'Panathur': 182,\n",
       "  'Parappana Agrahara': 183,\n",
       "  'Pattandur Agrahara': 184,\n",
       "  'Poorna Pragna Layout': 185,\n",
       "  'Prithvi Layout': 186,\n",
       "  'R.T. Nagar': 187,\n",
       "  'Rachenahalli': 188,\n",
       "  'Raja Rajeshwari Nagar': 189,\n",
       "  'Rajaji Nagar': 190,\n",
       "  'Rajiv Nagar': 191,\n",
       "  'Ramagondanahalli': 192,\n",
       "  'Ramamurthy Nagar': 193,\n",
       "  'Rayasandra': 194,\n",
       "  'Sahakara Nagar': 195,\n",
       "  'Sanjay nagar': 196,\n",
       "  'Sarakki Nagar': 197,\n",
       "  'Sarjapur': 198,\n",
       "  'Sarjapur  Road': 199,\n",
       "  'Sarjapura - Attibele Road': 200,\n",
       "  'Sector 2 HSR Layout': 201,\n",
       "  'Sector 7 HSR Layout': 202,\n",
       "  'Seegehalli': 203,\n",
       "  'Shampura': 204,\n",
       "  'Shivaji Nagar': 205,\n",
       "  'Singasandra': 206,\n",
       "  'Somasundara Palya': 207,\n",
       "  'Sompura': 208,\n",
       "  'Sonnenahalli': 209,\n",
       "  'Subramanyapura': 210,\n",
       "  'Sultan Palaya': 211,\n",
       "  'TC Palaya': 212,\n",
       "  'Talaghattapura': 213,\n",
       "  'Thanisandra': 214,\n",
       "  'Thigalarapalya': 215,\n",
       "  'Thubarahalli': 216,\n",
       "  'Tindlu': 217,\n",
       "  'Tumkur Road': 218,\n",
       "  'Ulsoor': 219,\n",
       "  'Uttarahalli': 220,\n",
       "  'Varthur': 221,\n",
       "  'Varthur Road': 222,\n",
       "  'Vasanthapura': 223,\n",
       "  'Vidyaranyapura': 224,\n",
       "  'Vijayanagar': 225,\n",
       "  'Vishveshwarya Layout': 226,\n",
       "  'Vishwapriya Layout': 227,\n",
       "  'Vittasandra': 228,\n",
       "  'Whitefield': 229,\n",
       "  'Yelachenahalli': 230,\n",
       "  'Yelahanka': 231,\n",
       "  'Yelahanka New Town': 232,\n",
       "  'Yelenahalli': 233,\n",
       "  'Yeshwanthpur': 234,\n",
       "  'other': 235}}"
      ]
     },
     "execution_count": 87,
     "metadata": {},
     "output_type": "execute_result"
    }
   ],
   "source": [
    "label_mappings"
   ]
  },
  {
   "cell_type": "code",
   "execution_count": 88,
   "metadata": {},
   "outputs": [
    {
     "data": {
      "text/html": [
       "<div>\n",
       "<style scoped>\n",
       "    .dataframe tbody tr th:only-of-type {\n",
       "        vertical-align: middle;\n",
       "    }\n",
       "\n",
       "    .dataframe tbody tr th {\n",
       "        vertical-align: top;\n",
       "    }\n",
       "\n",
       "    .dataframe thead th {\n",
       "        text-align: right;\n",
       "    }\n",
       "</style>\n",
       "<table border=\"1\" class=\"dataframe\">\n",
       "  <thead>\n",
       "    <tr style=\"text-align: right;\">\n",
       "      <th></th>\n",
       "      <th>total_sqft</th>\n",
       "      <th>bath</th>\n",
       "      <th>balcony</th>\n",
       "      <th>price</th>\n",
       "      <th>bhk</th>\n",
       "      <th>area_type_le</th>\n",
       "      <th>location_le</th>\n",
       "    </tr>\n",
       "  </thead>\n",
       "  <tbody>\n",
       "    <tr>\n",
       "      <th>0</th>\n",
       "      <td>1056.0</td>\n",
       "      <td>2.0</td>\n",
       "      <td>1.0</td>\n",
       "      <td>39.07</td>\n",
       "      <td>2</td>\n",
       "      <td>3</td>\n",
       "      <td>77</td>\n",
       "    </tr>\n",
       "    <tr>\n",
       "      <th>1</th>\n",
       "      <td>2600.0</td>\n",
       "      <td>5.0</td>\n",
       "      <td>3.0</td>\n",
       "      <td>120.00</td>\n",
       "      <td>4</td>\n",
       "      <td>2</td>\n",
       "      <td>59</td>\n",
       "    </tr>\n",
       "    <tr>\n",
       "      <th>2</th>\n",
       "      <td>1440.0</td>\n",
       "      <td>2.0</td>\n",
       "      <td>3.0</td>\n",
       "      <td>62.00</td>\n",
       "      <td>3</td>\n",
       "      <td>0</td>\n",
       "      <td>220</td>\n",
       "    </tr>\n",
       "    <tr>\n",
       "      <th>3</th>\n",
       "      <td>1521.0</td>\n",
       "      <td>3.0</td>\n",
       "      <td>1.0</td>\n",
       "      <td>95.00</td>\n",
       "      <td>3</td>\n",
       "      <td>3</td>\n",
       "      <td>155</td>\n",
       "    </tr>\n",
       "    <tr>\n",
       "      <th>4</th>\n",
       "      <td>1200.0</td>\n",
       "      <td>2.0</td>\n",
       "      <td>1.0</td>\n",
       "      <td>51.00</td>\n",
       "      <td>2</td>\n",
       "      <td>3</td>\n",
       "      <td>147</td>\n",
       "    </tr>\n",
       "  </tbody>\n",
       "</table>\n",
       "</div>"
      ],
      "text/plain": [
       "   total_sqft  bath  balcony   price  bhk  area_type_le  location_le\n",
       "0      1056.0   2.0      1.0   39.07    2             3           77\n",
       "1      2600.0   5.0      3.0  120.00    4             2           59\n",
       "2      1440.0   2.0      3.0   62.00    3             0          220\n",
       "3      1521.0   3.0      1.0   95.00    3             3          155\n",
       "4      1200.0   2.0      1.0   51.00    2             3          147"
      ]
     },
     "execution_count": 88,
     "metadata": {},
     "output_type": "execute_result"
    }
   ],
   "source": [
    "df.head()"
   ]
  },
  {
   "cell_type": "code",
   "execution_count": 89,
   "metadata": {},
   "outputs": [],
   "source": [
    "df.to_csv('final_dataset.csv')"
   ]
  }
 ],
 "metadata": {
  "kernelspec": {
   "display_name": "Python 3",
   "language": "python",
   "name": "python3"
  },
  "language_info": {
   "codemirror_mode": {
    "name": "ipython",
    "version": 3
   },
   "file_extension": ".py",
   "mimetype": "text/x-python",
   "name": "python",
   "nbconvert_exporter": "python",
   "pygments_lexer": "ipython3",
   "version": "3.11.2"
  }
 },
 "nbformat": 4,
 "nbformat_minor": 2
}
